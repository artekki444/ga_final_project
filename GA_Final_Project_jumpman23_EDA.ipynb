{
 "cells": [
  {
   "cell_type": "code",
   "execution_count": 73,
   "metadata": {},
   "outputs": [],
   "source": [
    "import numpy as np # linear algebra\n",
    "import pandas as pd # data processing, CSV file I/O (e.g. pd.read_csv)\n",
    "import matplotlib.pyplot as plt\n",
    "import seaborn as sns\n",
    "color = sns.color_palette('Blues')\n",
    "\n",
    "%matplotlib inline\n",
    "\n",
    "pd.options.mode.chained_assignment = None  # default='warn'"
   ]
  },
  {
   "cell_type": "code",
   "execution_count": 74,
   "metadata": {},
   "outputs": [],
   "source": [
    "data = pd.read_csv(\"./data/analyze_me.csv\")"
   ]
  },
  {
   "cell_type": "markdown",
   "metadata": {},
   "source": [
    "### Data Observation and Cleaning"
   ]
  },
  {
   "cell_type": "code",
   "execution_count": 75,
   "metadata": {
    "scrolled": false
   },
   "outputs": [
    {
     "name": "stdout",
     "output_type": "stream",
     "text": [
      "<class 'pandas.core.frame.DataFrame'>\n",
      "RangeIndex: 5983 entries, 0 to 5982\n",
      "Data columns (total 18 columns):\n",
      " #   Column                               Non-Null Count  Dtype  \n",
      "---  ------                               --------------  -----  \n",
      " 0   delivery_id                          5983 non-null   int64  \n",
      " 1   customer_id                          5983 non-null   int64  \n",
      " 2   jumpman_id                           5983 non-null   int64  \n",
      " 3   vehicle_type                         5983 non-null   object \n",
      " 4   pickup_place                         5983 non-null   object \n",
      " 5   place_category                       5100 non-null   object \n",
      " 6   item_name                            4753 non-null   object \n",
      " 7   item_quantity                        4753 non-null   float64\n",
      " 8   item_category_name                   4753 non-null   object \n",
      " 9   how_long_it_took_to_order            3038 non-null   object \n",
      " 10  pickup_lat                           5983 non-null   float64\n",
      " 11  pickup_lon                           5983 non-null   float64\n",
      " 12  dropoff_lat                          5983 non-null   float64\n",
      " 13  dropoff_lon                          5983 non-null   float64\n",
      " 14  when_the_delivery_started            5983 non-null   object \n",
      " 15  when_the_Jumpman_arrived_at_pickup   5433 non-null   object \n",
      " 16  when_the_Jumpman_left_pickup         5433 non-null   object \n",
      " 17  when_the_Jumpman_arrived_at_dropoff  5983 non-null   object \n",
      "dtypes: float64(5), int64(3), object(10)\n",
      "memory usage: 841.5+ KB\n"
     ]
    }
   ],
   "source": [
    "data.info()"
   ]
  },
  {
   "cell_type": "code",
   "execution_count": 76,
   "metadata": {},
   "outputs": [
    {
     "data": {
      "text/html": [
       "<div>\n",
       "<style scoped>\n",
       "    .dataframe tbody tr th:only-of-type {\n",
       "        vertical-align: middle;\n",
       "    }\n",
       "\n",
       "    .dataframe tbody tr th {\n",
       "        vertical-align: top;\n",
       "    }\n",
       "\n",
       "    .dataframe thead th {\n",
       "        text-align: right;\n",
       "    }\n",
       "</style>\n",
       "<table border=\"1\" class=\"dataframe\">\n",
       "  <thead>\n",
       "    <tr style=\"text-align: right;\">\n",
       "      <th></th>\n",
       "      <th>delivery_id</th>\n",
       "      <th>customer_id</th>\n",
       "      <th>jumpman_id</th>\n",
       "      <th>vehicle_type</th>\n",
       "      <th>pickup_place</th>\n",
       "      <th>place_category</th>\n",
       "      <th>item_name</th>\n",
       "      <th>item_quantity</th>\n",
       "      <th>item_category_name</th>\n",
       "      <th>how_long_it_took_to_order</th>\n",
       "      <th>pickup_lat</th>\n",
       "      <th>pickup_lon</th>\n",
       "      <th>dropoff_lat</th>\n",
       "      <th>dropoff_lon</th>\n",
       "      <th>when_the_delivery_started</th>\n",
       "      <th>when_the_Jumpman_arrived_at_pickup</th>\n",
       "      <th>when_the_Jumpman_left_pickup</th>\n",
       "      <th>when_the_Jumpman_arrived_at_dropoff</th>\n",
       "    </tr>\n",
       "  </thead>\n",
       "  <tbody>\n",
       "    <tr>\n",
       "      <th>0</th>\n",
       "      <td>1457973</td>\n",
       "      <td>327168</td>\n",
       "      <td>162381</td>\n",
       "      <td>van</td>\n",
       "      <td>Melt Shop</td>\n",
       "      <td>American</td>\n",
       "      <td>Lemonade</td>\n",
       "      <td>1.0</td>\n",
       "      <td>Beverages</td>\n",
       "      <td>00:19:58.582052</td>\n",
       "      <td>40.744607</td>\n",
       "      <td>-73.990742</td>\n",
       "      <td>40.752073</td>\n",
       "      <td>-73.985370</td>\n",
       "      <td>2014-10-26 13:51:59.898924</td>\n",
       "      <td>NaN</td>\n",
       "      <td>NaN</td>\n",
       "      <td>2014-10-26 14:52:06.313088</td>\n",
       "    </tr>\n",
       "    <tr>\n",
       "      <th>1</th>\n",
       "      <td>1377056</td>\n",
       "      <td>64452</td>\n",
       "      <td>104533</td>\n",
       "      <td>bicycle</td>\n",
       "      <td>Prince Street Pizza</td>\n",
       "      <td>Pizza</td>\n",
       "      <td>Neapolitan Rice Balls</td>\n",
       "      <td>3.0</td>\n",
       "      <td>Munchables</td>\n",
       "      <td>00:25:09.107093</td>\n",
       "      <td>40.723080</td>\n",
       "      <td>-73.994615</td>\n",
       "      <td>40.719722</td>\n",
       "      <td>-73.991858</td>\n",
       "      <td>2014-10-16 21:58:58.65491</td>\n",
       "      <td>2014-10-16 22:26:02.120931</td>\n",
       "      <td>2014-10-16 22:48:23.091253</td>\n",
       "      <td>2014-10-16 22:59:22.948873</td>\n",
       "    </tr>\n",
       "    <tr>\n",
       "      <th>2</th>\n",
       "      <td>1476547</td>\n",
       "      <td>83095</td>\n",
       "      <td>132725</td>\n",
       "      <td>bicycle</td>\n",
       "      <td>Bareburger</td>\n",
       "      <td>Burger</td>\n",
       "      <td>Bare Sodas</td>\n",
       "      <td>1.0</td>\n",
       "      <td>Drinks</td>\n",
       "      <td>00:06:44.541717</td>\n",
       "      <td>40.728478</td>\n",
       "      <td>-73.998392</td>\n",
       "      <td>40.728606</td>\n",
       "      <td>-73.995143</td>\n",
       "      <td>2014-10-28 21:39:52.654394</td>\n",
       "      <td>2014-10-28 21:37:18.793405</td>\n",
       "      <td>2014-10-28 21:59:09.98481</td>\n",
       "      <td>2014-10-28 22:04:40.634962</td>\n",
       "    </tr>\n",
       "    <tr>\n",
       "      <th>3</th>\n",
       "      <td>1485494</td>\n",
       "      <td>271149</td>\n",
       "      <td>157175</td>\n",
       "      <td>bicycle</td>\n",
       "      <td>Juice Press</td>\n",
       "      <td>Juice Bar</td>\n",
       "      <td>OMG! My Favorite Juice!</td>\n",
       "      <td>1.0</td>\n",
       "      <td>Cold Pressed Juices</td>\n",
       "      <td>NaN</td>\n",
       "      <td>40.738868</td>\n",
       "      <td>-74.002747</td>\n",
       "      <td>40.751257</td>\n",
       "      <td>-74.005634</td>\n",
       "      <td>2014-10-30 10:54:11.531894</td>\n",
       "      <td>2014-10-30 11:04:17.759577</td>\n",
       "      <td>2014-10-30 11:16:37.895816</td>\n",
       "      <td>2014-10-30 11:32:38.090061</td>\n",
       "    </tr>\n",
       "    <tr>\n",
       "      <th>4</th>\n",
       "      <td>1327707</td>\n",
       "      <td>122609</td>\n",
       "      <td>118095</td>\n",
       "      <td>bicycle</td>\n",
       "      <td>Blue Ribbon Sushi</td>\n",
       "      <td>Japanese</td>\n",
       "      <td>Spicy Tuna &amp; Tempura Flakes</td>\n",
       "      <td>2.0</td>\n",
       "      <td>Maki (Special Rolls)</td>\n",
       "      <td>00:03:45.035418</td>\n",
       "      <td>40.726110</td>\n",
       "      <td>-74.002492</td>\n",
       "      <td>40.709323</td>\n",
       "      <td>-74.015867</td>\n",
       "      <td>2014-10-10 00:07:18.450505</td>\n",
       "      <td>2014-10-10 00:14:42.702223</td>\n",
       "      <td>2014-10-10 00:25:19.400294</td>\n",
       "      <td>2014-10-10 00:48:27.150595</td>\n",
       "    </tr>\n",
       "  </tbody>\n",
       "</table>\n",
       "</div>"
      ],
      "text/plain": [
       "   delivery_id  customer_id  jumpman_id vehicle_type         pickup_place  \\\n",
       "0      1457973       327168      162381          van            Melt Shop   \n",
       "1      1377056        64452      104533      bicycle  Prince Street Pizza   \n",
       "2      1476547        83095      132725      bicycle           Bareburger   \n",
       "3      1485494       271149      157175      bicycle          Juice Press   \n",
       "4      1327707       122609      118095      bicycle    Blue Ribbon Sushi   \n",
       "\n",
       "  place_category                    item_name  item_quantity  \\\n",
       "0       American                     Lemonade            1.0   \n",
       "1          Pizza        Neapolitan Rice Balls            3.0   \n",
       "2         Burger                   Bare Sodas            1.0   \n",
       "3      Juice Bar      OMG! My Favorite Juice!            1.0   \n",
       "4       Japanese  Spicy Tuna & Tempura Flakes            2.0   \n",
       "\n",
       "     item_category_name how_long_it_took_to_order  pickup_lat  pickup_lon  \\\n",
       "0             Beverages           00:19:58.582052   40.744607  -73.990742   \n",
       "1            Munchables           00:25:09.107093   40.723080  -73.994615   \n",
       "2                Drinks           00:06:44.541717   40.728478  -73.998392   \n",
       "3   Cold Pressed Juices                       NaN   40.738868  -74.002747   \n",
       "4  Maki (Special Rolls)           00:03:45.035418   40.726110  -74.002492   \n",
       "\n",
       "   dropoff_lat  dropoff_lon   when_the_delivery_started  \\\n",
       "0    40.752073   -73.985370  2014-10-26 13:51:59.898924   \n",
       "1    40.719722   -73.991858   2014-10-16 21:58:58.65491   \n",
       "2    40.728606   -73.995143  2014-10-28 21:39:52.654394   \n",
       "3    40.751257   -74.005634  2014-10-30 10:54:11.531894   \n",
       "4    40.709323   -74.015867  2014-10-10 00:07:18.450505   \n",
       "\n",
       "  when_the_Jumpman_arrived_at_pickup when_the_Jumpman_left_pickup  \\\n",
       "0                                NaN                          NaN   \n",
       "1         2014-10-16 22:26:02.120931   2014-10-16 22:48:23.091253   \n",
       "2         2014-10-28 21:37:18.793405    2014-10-28 21:59:09.98481   \n",
       "3         2014-10-30 11:04:17.759577   2014-10-30 11:16:37.895816   \n",
       "4         2014-10-10 00:14:42.702223   2014-10-10 00:25:19.400294   \n",
       "\n",
       "  when_the_Jumpman_arrived_at_dropoff  \n",
       "0          2014-10-26 14:52:06.313088  \n",
       "1          2014-10-16 22:59:22.948873  \n",
       "2          2014-10-28 22:04:40.634962  \n",
       "3          2014-10-30 11:32:38.090061  \n",
       "4          2014-10-10 00:48:27.150595  "
      ]
     },
     "execution_count": 76,
     "metadata": {},
     "output_type": "execute_result"
    }
   ],
   "source": [
    "data.head()"
   ]
  },
  {
   "cell_type": "code",
   "execution_count": 77,
   "metadata": {
    "scrolled": true
   },
   "outputs": [
    {
     "data": {
      "text/plain": [
       "delivery_id                               0\n",
       "customer_id                               0\n",
       "jumpman_id                                0\n",
       "vehicle_type                              0\n",
       "pickup_place                              0\n",
       "place_category                          883\n",
       "item_name                              1230\n",
       "item_quantity                          1230\n",
       "item_category_name                     1230\n",
       "how_long_it_took_to_order              2945\n",
       "pickup_lat                                0\n",
       "pickup_lon                                0\n",
       "dropoff_lat                               0\n",
       "dropoff_lon                               0\n",
       "when_the_delivery_started                 0\n",
       "when_the_Jumpman_arrived_at_pickup      550\n",
       "when_the_Jumpman_left_pickup            550\n",
       "when_the_Jumpman_arrived_at_dropoff       0\n",
       "dtype: int64"
      ]
     },
     "execution_count": 77,
     "metadata": {},
     "output_type": "execute_result"
    }
   ],
   "source": [
    "data.isnull().sum()"
   ]
  },
  {
   "cell_type": "code",
   "execution_count": 78,
   "metadata": {
    "scrolled": true
   },
   "outputs": [
    {
     "data": {
      "text/html": [
       "<div>\n",
       "<style scoped>\n",
       "    .dataframe tbody tr th:only-of-type {\n",
       "        vertical-align: middle;\n",
       "    }\n",
       "\n",
       "    .dataframe tbody tr th {\n",
       "        vertical-align: top;\n",
       "    }\n",
       "\n",
       "    .dataframe thead th {\n",
       "        text-align: right;\n",
       "    }\n",
       "</style>\n",
       "<table border=\"1\" class=\"dataframe\">\n",
       "  <thead>\n",
       "    <tr style=\"text-align: right;\">\n",
       "      <th></th>\n",
       "      <th>delivery_id</th>\n",
       "      <th>customer_id</th>\n",
       "      <th>jumpman_id</th>\n",
       "      <th>vehicle_type</th>\n",
       "      <th>pickup_place</th>\n",
       "      <th>place_category</th>\n",
       "      <th>item_name</th>\n",
       "      <th>item_quantity</th>\n",
       "      <th>item_category_name</th>\n",
       "      <th>how_long_it_took_to_order</th>\n",
       "      <th>pickup_lat</th>\n",
       "      <th>pickup_lon</th>\n",
       "      <th>dropoff_lat</th>\n",
       "      <th>dropoff_lon</th>\n",
       "      <th>when_the_delivery_started</th>\n",
       "      <th>when_the_Jumpman_arrived_at_pickup</th>\n",
       "      <th>when_the_Jumpman_left_pickup</th>\n",
       "      <th>when_the_Jumpman_arrived_at_dropoff</th>\n",
       "    </tr>\n",
       "  </thead>\n",
       "  <tbody>\n",
       "    <tr>\n",
       "      <th>8</th>\n",
       "      <td>1487674</td>\n",
       "      <td>55375</td>\n",
       "      <td>181543</td>\n",
       "      <td>bicycle</td>\n",
       "      <td>Cafe Zaiya</td>\n",
       "      <td>NaN</td>\n",
       "      <td>NaN</td>\n",
       "      <td>NaN</td>\n",
       "      <td>NaN</td>\n",
       "      <td>NaN</td>\n",
       "      <td>40.729357</td>\n",
       "      <td>-73.990156</td>\n",
       "      <td>40.719758</td>\n",
       "      <td>-73.985011</td>\n",
       "      <td>2014-10-30 16:49:48.259935</td>\n",
       "      <td>2014-10-30 16:55:32.446053</td>\n",
       "      <td>2014-10-30 17:01:22.214264</td>\n",
       "      <td>2014-10-30 17:10:44.731901</td>\n",
       "    </tr>\n",
       "    <tr>\n",
       "      <th>10</th>\n",
       "      <td>1332793</td>\n",
       "      <td>104167</td>\n",
       "      <td>83565</td>\n",
       "      <td>bicycle</td>\n",
       "      <td>El Toro Blanco</td>\n",
       "      <td>Mexican</td>\n",
       "      <td>NaN</td>\n",
       "      <td>NaN</td>\n",
       "      <td>NaN</td>\n",
       "      <td>00:07:00.095332</td>\n",
       "      <td>40.728997</td>\n",
       "      <td>-74.002810</td>\n",
       "      <td>40.746060</td>\n",
       "      <td>-73.994674</td>\n",
       "      <td>2014-10-10 19:08:02.25412</td>\n",
       "      <td>2014-10-10 19:40:04.278217</td>\n",
       "      <td>2014-10-10 19:44:39.877927</td>\n",
       "      <td>2014-10-10 19:54:14.570666</td>\n",
       "    </tr>\n",
       "    <tr>\n",
       "      <th>16</th>\n",
       "      <td>1274468</td>\n",
       "      <td>95986</td>\n",
       "      <td>151467</td>\n",
       "      <td>bicycle</td>\n",
       "      <td>McDonald's</td>\n",
       "      <td>Fast Food</td>\n",
       "      <td>NaN</td>\n",
       "      <td>NaN</td>\n",
       "      <td>NaN</td>\n",
       "      <td>NaN</td>\n",
       "      <td>40.777940</td>\n",
       "      <td>-73.954710</td>\n",
       "      <td>40.784337</td>\n",
       "      <td>-73.953907</td>\n",
       "      <td>2014-10-01 18:17:51.625284</td>\n",
       "      <td>2014-10-01 18:18:53.498048</td>\n",
       "      <td>2014-10-01 18:34:09.732141</td>\n",
       "      <td>2014-10-01 18:42:50.967369</td>\n",
       "    </tr>\n",
       "    <tr>\n",
       "      <th>20</th>\n",
       "      <td>1413356</td>\n",
       "      <td>78465</td>\n",
       "      <td>158227</td>\n",
       "      <td>bicycle</td>\n",
       "      <td>Duane Reade</td>\n",
       "      <td>Drug Store</td>\n",
       "      <td>NaN</td>\n",
       "      <td>NaN</td>\n",
       "      <td>NaN</td>\n",
       "      <td>NaN</td>\n",
       "      <td>40.742876</td>\n",
       "      <td>-73.992561</td>\n",
       "      <td>40.742506</td>\n",
       "      <td>-73.992564</td>\n",
       "      <td>2014-10-21 10:08:40.392943</td>\n",
       "      <td>NaN</td>\n",
       "      <td>NaN</td>\n",
       "      <td>2014-10-21 10:27:55.756742</td>\n",
       "    </tr>\n",
       "    <tr>\n",
       "      <th>25</th>\n",
       "      <td>1360308</td>\n",
       "      <td>57174</td>\n",
       "      <td>61900</td>\n",
       "      <td>bicycle</td>\n",
       "      <td>Umami Burger</td>\n",
       "      <td>Burger</td>\n",
       "      <td>NaN</td>\n",
       "      <td>NaN</td>\n",
       "      <td>NaN</td>\n",
       "      <td>00:02:40.200298</td>\n",
       "      <td>40.734446</td>\n",
       "      <td>-73.998713</td>\n",
       "      <td>40.720956</td>\n",
       "      <td>-73.999281</td>\n",
       "      <td>2014-10-14 11:32:50.35313</td>\n",
       "      <td>2014-10-14 12:04:38.153601</td>\n",
       "      <td>2014-10-14 12:14:27.858646</td>\n",
       "      <td>2014-10-14 12:24:02.125908</td>\n",
       "    </tr>\n",
       "  </tbody>\n",
       "</table>\n",
       "</div>"
      ],
      "text/plain": [
       "    delivery_id  customer_id  jumpman_id vehicle_type    pickup_place  \\\n",
       "8       1487674        55375      181543      bicycle      Cafe Zaiya   \n",
       "10      1332793       104167       83565      bicycle  El Toro Blanco   \n",
       "16      1274468        95986      151467      bicycle      McDonald's   \n",
       "20      1413356        78465      158227      bicycle     Duane Reade   \n",
       "25      1360308        57174       61900      bicycle    Umami Burger   \n",
       "\n",
       "   place_category item_name  item_quantity item_category_name  \\\n",
       "8             NaN       NaN            NaN                NaN   \n",
       "10        Mexican       NaN            NaN                NaN   \n",
       "16      Fast Food       NaN            NaN                NaN   \n",
       "20     Drug Store       NaN            NaN                NaN   \n",
       "25         Burger       NaN            NaN                NaN   \n",
       "\n",
       "   how_long_it_took_to_order  pickup_lat  pickup_lon  dropoff_lat  \\\n",
       "8                        NaN   40.729357  -73.990156    40.719758   \n",
       "10           00:07:00.095332   40.728997  -74.002810    40.746060   \n",
       "16                       NaN   40.777940  -73.954710    40.784337   \n",
       "20                       NaN   40.742876  -73.992561    40.742506   \n",
       "25           00:02:40.200298   40.734446  -73.998713    40.720956   \n",
       "\n",
       "    dropoff_lon   when_the_delivery_started  \\\n",
       "8    -73.985011  2014-10-30 16:49:48.259935   \n",
       "10   -73.994674   2014-10-10 19:08:02.25412   \n",
       "16   -73.953907  2014-10-01 18:17:51.625284   \n",
       "20   -73.992564  2014-10-21 10:08:40.392943   \n",
       "25   -73.999281   2014-10-14 11:32:50.35313   \n",
       "\n",
       "   when_the_Jumpman_arrived_at_pickup when_the_Jumpman_left_pickup  \\\n",
       "8          2014-10-30 16:55:32.446053   2014-10-30 17:01:22.214264   \n",
       "10         2014-10-10 19:40:04.278217   2014-10-10 19:44:39.877927   \n",
       "16         2014-10-01 18:18:53.498048   2014-10-01 18:34:09.732141   \n",
       "20                                NaN                          NaN   \n",
       "25         2014-10-14 12:04:38.153601   2014-10-14 12:14:27.858646   \n",
       "\n",
       "   when_the_Jumpman_arrived_at_dropoff  \n",
       "8           2014-10-30 17:10:44.731901  \n",
       "10          2014-10-10 19:54:14.570666  \n",
       "16          2014-10-01 18:42:50.967369  \n",
       "20          2014-10-21 10:27:55.756742  \n",
       "25          2014-10-14 12:24:02.125908  "
      ]
     },
     "execution_count": 78,
     "metadata": {},
     "output_type": "execute_result"
    }
   ],
   "source": [
    "data[data.item_name.isnull()].head()"
   ]
  },
  {
   "cell_type": "markdown",
   "metadata": {},
   "source": [
    "#### Data Integrity Issue 1\n",
    "\n",
    "We are noticing some null values in different fields. We can immediately observe missing values related to order details that can be helpful to use for user behavior and product related analysis. We should escalate to engineering that the system is not fully tracking the details. \n",
    "\n",
    "Furthermore, more than 50% of how_long_it_took_to_order is missing, which can be complex problem to solve since the app can be activated in users phone on background, which can skew the data. This can be improved over time. \n",
    "\n",
    "we have no visibility for 550 entries when a Jumpman arived at pickup location and left. Not a crucial at this moment, yet it would be one of the most important data points to determine delivery errors or to improve user experience.   "
   ]
  },
  {
   "cell_type": "code",
   "execution_count": 79,
   "metadata": {},
   "outputs": [
    {
     "data": {
      "text/plain": [
       "(5983, 18)"
      ]
     },
     "execution_count": 79,
     "metadata": {},
     "output_type": "execute_result"
    }
   ],
   "source": [
    "data.shape"
   ]
  },
  {
   "cell_type": "code",
   "execution_count": 80,
   "metadata": {
    "scrolled": true
   },
   "outputs": [
    {
     "data": {
      "text/plain": [
       "True"
      ]
     },
     "execution_count": 80,
     "metadata": {},
     "output_type": "execute_result"
    }
   ],
   "source": [
    "data.duplicated().any()"
   ]
  },
  {
   "cell_type": "code",
   "execution_count": 81,
   "metadata": {},
   "outputs": [
    {
     "data": {
      "text/plain": [
       "delivery_id\n",
       "1460296    5\n",
       "1458212    4\n",
       "1460699    4\n",
       "1439953    4\n",
       "1285292    4\n",
       "          ..\n",
       "1410187    1\n",
       "1410229    1\n",
       "1410230    1\n",
       "1410237    1\n",
       "1271706    1\n",
       "Length: 5214, dtype: int64"
      ]
     },
     "execution_count": 81,
     "metadata": {},
     "output_type": "execute_result"
    }
   ],
   "source": [
    "data.pivot_table(index=['delivery_id'], aggfunc='size').sort_values(ascending=False)"
   ]
  },
  {
   "cell_type": "markdown",
   "metadata": {},
   "source": [
    "#### Data Integrity Issue #2\n",
    "\n",
    "We are seeing duplicates in delivery_id. We need to observe whether we should drop them or aggregate them is needed. Let's take a look. "
   ]
  },
  {
   "cell_type": "code",
   "execution_count": 82,
   "metadata": {},
   "outputs": [
    {
     "name": "stdout",
     "output_type": "stream",
     "text": [
      "total number of unique order: 5214\n"
     ]
    }
   ],
   "source": [
    "total_orders = data.delivery_id.nunique()\n",
    "\n",
    "print(f'total number of unique order: {total_orders}')"
   ]
  },
  {
   "cell_type": "code",
   "execution_count": 83,
   "metadata": {},
   "outputs": [
    {
     "data": {
      "text/html": [
       "<div>\n",
       "<style scoped>\n",
       "    .dataframe tbody tr th:only-of-type {\n",
       "        vertical-align: middle;\n",
       "    }\n",
       "\n",
       "    .dataframe tbody tr th {\n",
       "        vertical-align: top;\n",
       "    }\n",
       "\n",
       "    .dataframe thead th {\n",
       "        text-align: right;\n",
       "    }\n",
       "</style>\n",
       "<table border=\"1\" class=\"dataframe\">\n",
       "  <thead>\n",
       "    <tr style=\"text-align: right;\">\n",
       "      <th></th>\n",
       "      <th>delivery_id</th>\n",
       "      <th>customer_id</th>\n",
       "      <th>jumpman_id</th>\n",
       "      <th>vehicle_type</th>\n",
       "      <th>pickup_place</th>\n",
       "      <th>place_category</th>\n",
       "      <th>item_name</th>\n",
       "      <th>item_quantity</th>\n",
       "      <th>item_category_name</th>\n",
       "      <th>how_long_it_took_to_order</th>\n",
       "      <th>pickup_lat</th>\n",
       "      <th>pickup_lon</th>\n",
       "      <th>dropoff_lat</th>\n",
       "      <th>dropoff_lon</th>\n",
       "      <th>when_the_delivery_started</th>\n",
       "      <th>when_the_Jumpman_arrived_at_pickup</th>\n",
       "      <th>when_the_Jumpman_left_pickup</th>\n",
       "      <th>when_the_Jumpman_arrived_at_dropoff</th>\n",
       "    </tr>\n",
       "  </thead>\n",
       "  <tbody>\n",
       "    <tr>\n",
       "      <th>2599</th>\n",
       "      <td>1460296</td>\n",
       "      <td>155145</td>\n",
       "      <td>39202</td>\n",
       "      <td>bicycle</td>\n",
       "      <td>La Esquina Taqueria</td>\n",
       "      <td>NaN</td>\n",
       "      <td>Bistec</td>\n",
       "      <td>1.0</td>\n",
       "      <td>Tacos</td>\n",
       "      <td>00:03:20.15586</td>\n",
       "      <td>40.721354</td>\n",
       "      <td>-73.997525</td>\n",
       "      <td>40.736889</td>\n",
       "      <td>-73.983087</td>\n",
       "      <td>2014-10-26 16:55:46.106588</td>\n",
       "      <td>2014-10-26 17:06:24.09911</td>\n",
       "      <td>2014-10-26 17:15:44.699287</td>\n",
       "      <td>2014-10-26 17:26:44.885842</td>\n",
       "    </tr>\n",
       "    <tr>\n",
       "      <th>3510</th>\n",
       "      <td>1460296</td>\n",
       "      <td>155145</td>\n",
       "      <td>39202</td>\n",
       "      <td>bicycle</td>\n",
       "      <td>La Esquina Taqueria</td>\n",
       "      <td>NaN</td>\n",
       "      <td>Tortilla</td>\n",
       "      <td>1.0</td>\n",
       "      <td>Soups</td>\n",
       "      <td>00:03:20.15586</td>\n",
       "      <td>40.721354</td>\n",
       "      <td>-73.997525</td>\n",
       "      <td>40.736889</td>\n",
       "      <td>-73.983087</td>\n",
       "      <td>2014-10-26 16:55:46.106588</td>\n",
       "      <td>2014-10-26 17:06:24.09911</td>\n",
       "      <td>2014-10-26 17:15:44.699287</td>\n",
       "      <td>2014-10-26 17:26:44.885842</td>\n",
       "    </tr>\n",
       "    <tr>\n",
       "      <th>3796</th>\n",
       "      <td>1460296</td>\n",
       "      <td>155145</td>\n",
       "      <td>39202</td>\n",
       "      <td>bicycle</td>\n",
       "      <td>La Esquina Taqueria</td>\n",
       "      <td>NaN</td>\n",
       "      <td>Chips &amp; La Esquina's Own Salsa Roja</td>\n",
       "      <td>1.0</td>\n",
       "      <td>Plates</td>\n",
       "      <td>00:03:20.15586</td>\n",
       "      <td>40.721354</td>\n",
       "      <td>-73.997525</td>\n",
       "      <td>40.736889</td>\n",
       "      <td>-73.983087</td>\n",
       "      <td>2014-10-26 16:55:46.106588</td>\n",
       "      <td>2014-10-26 17:06:24.09911</td>\n",
       "      <td>2014-10-26 17:15:44.699287</td>\n",
       "      <td>2014-10-26 17:26:44.885842</td>\n",
       "    </tr>\n",
       "    <tr>\n",
       "      <th>4056</th>\n",
       "      <td>1460296</td>\n",
       "      <td>155145</td>\n",
       "      <td>39202</td>\n",
       "      <td>bicycle</td>\n",
       "      <td>La Esquina Taqueria</td>\n",
       "      <td>NaN</td>\n",
       "      <td>Canned Soda</td>\n",
       "      <td>1.0</td>\n",
       "      <td>Cold Drinks</td>\n",
       "      <td>00:03:20.15586</td>\n",
       "      <td>40.721354</td>\n",
       "      <td>-73.997525</td>\n",
       "      <td>40.736889</td>\n",
       "      <td>-73.983087</td>\n",
       "      <td>2014-10-26 16:55:46.106588</td>\n",
       "      <td>2014-10-26 17:06:24.09911</td>\n",
       "      <td>2014-10-26 17:15:44.699287</td>\n",
       "      <td>2014-10-26 17:26:44.885842</td>\n",
       "    </tr>\n",
       "    <tr>\n",
       "      <th>4487</th>\n",
       "      <td>1460296</td>\n",
       "      <td>155145</td>\n",
       "      <td>39202</td>\n",
       "      <td>bicycle</td>\n",
       "      <td>La Esquina Taqueria</td>\n",
       "      <td>NaN</td>\n",
       "      <td>Elotes Callejeros</td>\n",
       "      <td>1.0</td>\n",
       "      <td>Sides</td>\n",
       "      <td>00:03:20.15586</td>\n",
       "      <td>40.721354</td>\n",
       "      <td>-73.997525</td>\n",
       "      <td>40.736889</td>\n",
       "      <td>-73.983087</td>\n",
       "      <td>2014-10-26 16:55:46.106588</td>\n",
       "      <td>2014-10-26 17:06:24.09911</td>\n",
       "      <td>2014-10-26 17:15:44.699287</td>\n",
       "      <td>2014-10-26 17:26:44.885842</td>\n",
       "    </tr>\n",
       "  </tbody>\n",
       "</table>\n",
       "</div>"
      ],
      "text/plain": [
       "      delivery_id  customer_id  jumpman_id vehicle_type         pickup_place  \\\n",
       "2599      1460296       155145       39202      bicycle  La Esquina Taqueria   \n",
       "3510      1460296       155145       39202      bicycle  La Esquina Taqueria   \n",
       "3796      1460296       155145       39202      bicycle  La Esquina Taqueria   \n",
       "4056      1460296       155145       39202      bicycle  La Esquina Taqueria   \n",
       "4487      1460296       155145       39202      bicycle  La Esquina Taqueria   \n",
       "\n",
       "     place_category                            item_name  item_quantity  \\\n",
       "2599            NaN                               Bistec            1.0   \n",
       "3510            NaN                             Tortilla            1.0   \n",
       "3796            NaN  Chips & La Esquina's Own Salsa Roja            1.0   \n",
       "4056            NaN                          Canned Soda            1.0   \n",
       "4487            NaN                    Elotes Callejeros            1.0   \n",
       "\n",
       "     item_category_name how_long_it_took_to_order  pickup_lat  pickup_lon  \\\n",
       "2599              Tacos            00:03:20.15586   40.721354  -73.997525   \n",
       "3510              Soups            00:03:20.15586   40.721354  -73.997525   \n",
       "3796             Plates            00:03:20.15586   40.721354  -73.997525   \n",
       "4056        Cold Drinks            00:03:20.15586   40.721354  -73.997525   \n",
       "4487              Sides            00:03:20.15586   40.721354  -73.997525   \n",
       "\n",
       "      dropoff_lat  dropoff_lon   when_the_delivery_started  \\\n",
       "2599    40.736889   -73.983087  2014-10-26 16:55:46.106588   \n",
       "3510    40.736889   -73.983087  2014-10-26 16:55:46.106588   \n",
       "3796    40.736889   -73.983087  2014-10-26 16:55:46.106588   \n",
       "4056    40.736889   -73.983087  2014-10-26 16:55:46.106588   \n",
       "4487    40.736889   -73.983087  2014-10-26 16:55:46.106588   \n",
       "\n",
       "     when_the_Jumpman_arrived_at_pickup when_the_Jumpman_left_pickup  \\\n",
       "2599          2014-10-26 17:06:24.09911   2014-10-26 17:15:44.699287   \n",
       "3510          2014-10-26 17:06:24.09911   2014-10-26 17:15:44.699287   \n",
       "3796          2014-10-26 17:06:24.09911   2014-10-26 17:15:44.699287   \n",
       "4056          2014-10-26 17:06:24.09911   2014-10-26 17:15:44.699287   \n",
       "4487          2014-10-26 17:06:24.09911   2014-10-26 17:15:44.699287   \n",
       "\n",
       "     when_the_Jumpman_arrived_at_dropoff  \n",
       "2599          2014-10-26 17:26:44.885842  \n",
       "3510          2014-10-26 17:26:44.885842  \n",
       "3796          2014-10-26 17:26:44.885842  \n",
       "4056          2014-10-26 17:26:44.885842  \n",
       "4487          2014-10-26 17:26:44.885842  "
      ]
     },
     "execution_count": 83,
     "metadata": {},
     "output_type": "execute_result"
    }
   ],
   "source": [
    "# checking duplicated delivery_id sample. \n",
    "\n",
    "data[data.delivery_id == 1460296]"
   ]
  },
  {
   "cell_type": "markdown",
   "metadata": {},
   "source": [
    "Multiple rows are being created due to multiple item_names in one order. We need to aggregate into one for accuracy of market performance"
   ]
  },
  {
   "cell_type": "code",
   "execution_count": 84,
   "metadata": {},
   "outputs": [
    {
     "data": {
      "text/html": [
       "<div>\n",
       "<style scoped>\n",
       "    .dataframe tbody tr th:only-of-type {\n",
       "        vertical-align: middle;\n",
       "    }\n",
       "\n",
       "    .dataframe tbody tr th {\n",
       "        vertical-align: top;\n",
       "    }\n",
       "\n",
       "    .dataframe thead th {\n",
       "        text-align: right;\n",
       "    }\n",
       "</style>\n",
       "<table border=\"1\" class=\"dataframe\">\n",
       "  <thead>\n",
       "    <tr style=\"text-align: right;\">\n",
       "      <th></th>\n",
       "      <th>delivery_id</th>\n",
       "      <th>customer_id</th>\n",
       "      <th>total_items</th>\n",
       "      <th>item_quantity_sum</th>\n",
       "    </tr>\n",
       "  </thead>\n",
       "  <tbody>\n",
       "    <tr>\n",
       "      <th>2700</th>\n",
       "      <td>1380656</td>\n",
       "      <td>369608</td>\n",
       "      <td>2</td>\n",
       "      <td>30.0</td>\n",
       "    </tr>\n",
       "    <tr>\n",
       "      <th>7</th>\n",
       "      <td>1272382</td>\n",
       "      <td>118665</td>\n",
       "      <td>1</td>\n",
       "      <td>16.0</td>\n",
       "    </tr>\n",
       "    <tr>\n",
       "      <th>495</th>\n",
       "      <td>1292228</td>\n",
       "      <td>94700</td>\n",
       "      <td>1</td>\n",
       "      <td>15.0</td>\n",
       "    </tr>\n",
       "    <tr>\n",
       "      <th>4924</th>\n",
       "      <td>1479861</td>\n",
       "      <td>403122</td>\n",
       "      <td>1</td>\n",
       "      <td>12.0</td>\n",
       "    </tr>\n",
       "    <tr>\n",
       "      <th>1767</th>\n",
       "      <td>1341269</td>\n",
       "      <td>115519</td>\n",
       "      <td>2</td>\n",
       "      <td>11.0</td>\n",
       "    </tr>\n",
       "    <tr>\n",
       "      <th>...</th>\n",
       "      <td>...</td>\n",
       "      <td>...</td>\n",
       "      <td>...</td>\n",
       "      <td>...</td>\n",
       "    </tr>\n",
       "    <tr>\n",
       "      <th>1034</th>\n",
       "      <td>1313042</td>\n",
       "      <td>93086</td>\n",
       "      <td>1</td>\n",
       "      <td>0.0</td>\n",
       "    </tr>\n",
       "    <tr>\n",
       "      <th>2062</th>\n",
       "      <td>1354300</td>\n",
       "      <td>115238</td>\n",
       "      <td>1</td>\n",
       "      <td>0.0</td>\n",
       "    </tr>\n",
       "    <tr>\n",
       "      <th>1036</th>\n",
       "      <td>1313049</td>\n",
       "      <td>69928</td>\n",
       "      <td>1</td>\n",
       "      <td>0.0</td>\n",
       "    </tr>\n",
       "    <tr>\n",
       "      <th>4162</th>\n",
       "      <td>1448714</td>\n",
       "      <td>114821</td>\n",
       "      <td>1</td>\n",
       "      <td>0.0</td>\n",
       "    </tr>\n",
       "    <tr>\n",
       "      <th>0</th>\n",
       "      <td>1271706</td>\n",
       "      <td>66556</td>\n",
       "      <td>1</td>\n",
       "      <td>0.0</td>\n",
       "    </tr>\n",
       "  </tbody>\n",
       "</table>\n",
       "<p>5214 rows × 4 columns</p>\n",
       "</div>"
      ],
      "text/plain": [
       "      delivery_id  customer_id  total_items  item_quantity_sum\n",
       "2700      1380656       369608            2               30.0\n",
       "7         1272382       118665            1               16.0\n",
       "495       1292228        94700            1               15.0\n",
       "4924      1479861       403122            1               12.0\n",
       "1767      1341269       115519            2               11.0\n",
       "...           ...          ...          ...                ...\n",
       "1034      1313042        93086            1                0.0\n",
       "2062      1354300       115238            1                0.0\n",
       "1036      1313049        69928            1                0.0\n",
       "4162      1448714       114821            1                0.0\n",
       "0         1271706        66556            1                0.0\n",
       "\n",
       "[5214 rows x 4 columns]"
      ]
     },
     "execution_count": 84,
     "metadata": {},
     "output_type": "execute_result"
    }
   ],
   "source": [
    "df_grouped = data.groupby(['delivery_id','customer_id'], as_index=False).agg({'pickup_place': 'count','item_quantity' : 'sum'})\n",
    "df_grouped[df_grouped.delivery_id == 1460296]\n",
    "df_grouped.columns = ['delivery_id', 'customer_id', 'total_items', 'item_quantity_sum']\n",
    "df_grouped.sort_values(by='item_quantity_sum', ascending=False)"
   ]
  },
  {
   "cell_type": "code",
   "execution_count": 85,
   "metadata": {
    "scrolled": true
   },
   "outputs": [
    {
     "data": {
      "text/html": [
       "<div>\n",
       "<style scoped>\n",
       "    .dataframe tbody tr th:only-of-type {\n",
       "        vertical-align: middle;\n",
       "    }\n",
       "\n",
       "    .dataframe tbody tr th {\n",
       "        vertical-align: top;\n",
       "    }\n",
       "\n",
       "    .dataframe thead th {\n",
       "        text-align: right;\n",
       "    }\n",
       "</style>\n",
       "<table border=\"1\" class=\"dataframe\">\n",
       "  <thead>\n",
       "    <tr style=\"text-align: right;\">\n",
       "      <th></th>\n",
       "      <th>delivery_id</th>\n",
       "      <th>customer_id</th>\n",
       "      <th>jumpman_id</th>\n",
       "      <th>vehicle_type</th>\n",
       "      <th>pickup_place</th>\n",
       "      <th>place_category</th>\n",
       "      <th>item_name</th>\n",
       "      <th>item_quantity</th>\n",
       "      <th>item_category_name</th>\n",
       "      <th>how_long_it_took_to_order</th>\n",
       "      <th>pickup_lat</th>\n",
       "      <th>pickup_lon</th>\n",
       "      <th>dropoff_lat</th>\n",
       "      <th>dropoff_lon</th>\n",
       "      <th>when_the_delivery_started</th>\n",
       "      <th>when_the_Jumpman_arrived_at_pickup</th>\n",
       "      <th>when_the_Jumpman_left_pickup</th>\n",
       "      <th>when_the_Jumpman_arrived_at_dropoff</th>\n",
       "    </tr>\n",
       "  </thead>\n",
       "  <tbody>\n",
       "    <tr>\n",
       "      <th>1939</th>\n",
       "      <td>1380656</td>\n",
       "      <td>369608</td>\n",
       "      <td>155234</td>\n",
       "      <td>bicycle</td>\n",
       "      <td>Crif Dogs</td>\n",
       "      <td>NaN</td>\n",
       "      <td>New Yorker</td>\n",
       "      <td>15.0</td>\n",
       "      <td>Crif Dogs</td>\n",
       "      <td>NaN</td>\n",
       "      <td>40.727041</td>\n",
       "      <td>-73.983836</td>\n",
       "      <td>40.744914</td>\n",
       "      <td>-73.986621</td>\n",
       "      <td>2014-10-17 15:10:02.115325</td>\n",
       "      <td>2014-10-17 15:08:43.56924</td>\n",
       "      <td>2014-10-17 15:40:33.07672</td>\n",
       "      <td>2014-10-17 15:58:54.225365</td>\n",
       "    </tr>\n",
       "    <tr>\n",
       "      <th>3142</th>\n",
       "      <td>1380656</td>\n",
       "      <td>369608</td>\n",
       "      <td>155234</td>\n",
       "      <td>bicycle</td>\n",
       "      <td>Crif Dogs</td>\n",
       "      <td>NaN</td>\n",
       "      <td>The Crif Dog</td>\n",
       "      <td>15.0</td>\n",
       "      <td>Crif Dogs</td>\n",
       "      <td>NaN</td>\n",
       "      <td>40.727041</td>\n",
       "      <td>-73.983836</td>\n",
       "      <td>40.744914</td>\n",
       "      <td>-73.986621</td>\n",
       "      <td>2014-10-17 15:10:02.115325</td>\n",
       "      <td>2014-10-17 15:08:43.56924</td>\n",
       "      <td>2014-10-17 15:40:33.07672</td>\n",
       "      <td>2014-10-17 15:58:54.225365</td>\n",
       "    </tr>\n",
       "  </tbody>\n",
       "</table>\n",
       "</div>"
      ],
      "text/plain": [
       "      delivery_id  customer_id  jumpman_id vehicle_type pickup_place  \\\n",
       "1939      1380656       369608      155234      bicycle    Crif Dogs   \n",
       "3142      1380656       369608      155234      bicycle    Crif Dogs   \n",
       "\n",
       "     place_category     item_name  item_quantity item_category_name  \\\n",
       "1939            NaN    New Yorker           15.0          Crif Dogs   \n",
       "3142            NaN  The Crif Dog           15.0          Crif Dogs   \n",
       "\n",
       "     how_long_it_took_to_order  pickup_lat  pickup_lon  dropoff_lat  \\\n",
       "1939                       NaN   40.727041  -73.983836    40.744914   \n",
       "3142                       NaN   40.727041  -73.983836    40.744914   \n",
       "\n",
       "      dropoff_lon   when_the_delivery_started  \\\n",
       "1939   -73.986621  2014-10-17 15:10:02.115325   \n",
       "3142   -73.986621  2014-10-17 15:10:02.115325   \n",
       "\n",
       "     when_the_Jumpman_arrived_at_pickup when_the_Jumpman_left_pickup  \\\n",
       "1939          2014-10-17 15:08:43.56924    2014-10-17 15:40:33.07672   \n",
       "3142          2014-10-17 15:08:43.56924    2014-10-17 15:40:33.07672   \n",
       "\n",
       "     when_the_Jumpman_arrived_at_dropoff  \n",
       "1939          2014-10-17 15:58:54.225365  \n",
       "3142          2014-10-17 15:58:54.225365  "
      ]
     },
     "execution_count": 85,
     "metadata": {},
     "output_type": "execute_result"
    }
   ],
   "source": [
    "data[data.delivery_id == 1380656]"
   ]
  },
  {
   "cell_type": "code",
   "execution_count": 86,
   "metadata": {},
   "outputs": [
    {
     "data": {
      "text/html": [
       "<div>\n",
       "<style scoped>\n",
       "    .dataframe tbody tr th:only-of-type {\n",
       "        vertical-align: middle;\n",
       "    }\n",
       "\n",
       "    .dataframe tbody tr th {\n",
       "        vertical-align: top;\n",
       "    }\n",
       "\n",
       "    .dataframe thead th {\n",
       "        text-align: right;\n",
       "    }\n",
       "</style>\n",
       "<table border=\"1\" class=\"dataframe\">\n",
       "  <thead>\n",
       "    <tr style=\"text-align: right;\">\n",
       "      <th></th>\n",
       "      <th>delivery_id</th>\n",
       "      <th>customer_id</th>\n",
       "      <th>jumpman_id</th>\n",
       "      <th>vehicle_type</th>\n",
       "      <th>pickup_place</th>\n",
       "      <th>place_category</th>\n",
       "      <th>item_name</th>\n",
       "      <th>item_quantity</th>\n",
       "      <th>item_category_name</th>\n",
       "      <th>how_long_it_took_to_order</th>\n",
       "      <th>pickup_lat</th>\n",
       "      <th>pickup_lon</th>\n",
       "      <th>dropoff_lat</th>\n",
       "      <th>dropoff_lon</th>\n",
       "      <th>when_the_delivery_started</th>\n",
       "      <th>when_the_Jumpman_arrived_at_pickup</th>\n",
       "      <th>when_the_Jumpman_left_pickup</th>\n",
       "      <th>when_the_Jumpman_arrived_at_dropoff</th>\n",
       "    </tr>\n",
       "  </thead>\n",
       "  <tbody>\n",
       "    <tr>\n",
       "      <th>0</th>\n",
       "      <td>1457973</td>\n",
       "      <td>327168</td>\n",
       "      <td>162381</td>\n",
       "      <td>van</td>\n",
       "      <td>Melt Shop</td>\n",
       "      <td>American</td>\n",
       "      <td>Lemonade</td>\n",
       "      <td>1.0</td>\n",
       "      <td>Beverages</td>\n",
       "      <td>00:19:58.582052</td>\n",
       "      <td>40.744607</td>\n",
       "      <td>-73.990742</td>\n",
       "      <td>40.752073</td>\n",
       "      <td>-73.98537</td>\n",
       "      <td>2014-10-26 13:51:59.898924</td>\n",
       "      <td>NaN</td>\n",
       "      <td>NaN</td>\n",
       "      <td>2014-10-26 14:52:06.313088</td>\n",
       "    </tr>\n",
       "    <tr>\n",
       "      <th>4763</th>\n",
       "      <td>1457973</td>\n",
       "      <td>327168</td>\n",
       "      <td>162381</td>\n",
       "      <td>van</td>\n",
       "      <td>Melt Shop</td>\n",
       "      <td>American</td>\n",
       "      <td>Turkey Truffle</td>\n",
       "      <td>1.0</td>\n",
       "      <td>Sandwiches</td>\n",
       "      <td>00:19:58.582052</td>\n",
       "      <td>40.744607</td>\n",
       "      <td>-73.990742</td>\n",
       "      <td>40.752073</td>\n",
       "      <td>-73.98537</td>\n",
       "      <td>2014-10-26 13:51:59.898924</td>\n",
       "      <td>NaN</td>\n",
       "      <td>NaN</td>\n",
       "      <td>2014-10-26 14:52:06.313088</td>\n",
       "    </tr>\n",
       "  </tbody>\n",
       "</table>\n",
       "</div>"
      ],
      "text/plain": [
       "      delivery_id  customer_id  jumpman_id vehicle_type pickup_place  \\\n",
       "0         1457973       327168      162381          van    Melt Shop   \n",
       "4763      1457973       327168      162381          van    Melt Shop   \n",
       "\n",
       "     place_category       item_name  item_quantity item_category_name  \\\n",
       "0          American        Lemonade            1.0          Beverages   \n",
       "4763       American  Turkey Truffle            1.0         Sandwiches   \n",
       "\n",
       "     how_long_it_took_to_order  pickup_lat  pickup_lon  dropoff_lat  \\\n",
       "0              00:19:58.582052   40.744607  -73.990742    40.752073   \n",
       "4763           00:19:58.582052   40.744607  -73.990742    40.752073   \n",
       "\n",
       "      dropoff_lon   when_the_delivery_started  \\\n",
       "0       -73.98537  2014-10-26 13:51:59.898924   \n",
       "4763    -73.98537  2014-10-26 13:51:59.898924   \n",
       "\n",
       "     when_the_Jumpman_arrived_at_pickup when_the_Jumpman_left_pickup  \\\n",
       "0                                   NaN                          NaN   \n",
       "4763                                NaN                          NaN   \n",
       "\n",
       "     when_the_Jumpman_arrived_at_dropoff  \n",
       "0             2014-10-26 14:52:06.313088  \n",
       "4763          2014-10-26 14:52:06.313088  "
      ]
     },
     "execution_count": 86,
     "metadata": {},
     "output_type": "execute_result"
    }
   ],
   "source": [
    "data[data.delivery_id == 1457973]"
   ]
  },
  {
   "cell_type": "code",
   "execution_count": 87,
   "metadata": {
    "scrolled": true
   },
   "outputs": [
    {
     "data": {
      "text/html": [
       "<div>\n",
       "<style scoped>\n",
       "    .dataframe tbody tr th:only-of-type {\n",
       "        vertical-align: middle;\n",
       "    }\n",
       "\n",
       "    .dataframe tbody tr th {\n",
       "        vertical-align: top;\n",
       "    }\n",
       "\n",
       "    .dataframe thead th {\n",
       "        text-align: right;\n",
       "    }\n",
       "</style>\n",
       "<table border=\"1\" class=\"dataframe\">\n",
       "  <thead>\n",
       "    <tr style=\"text-align: right;\">\n",
       "      <th></th>\n",
       "      <th>delivery_id</th>\n",
       "      <th>customer_id</th>\n",
       "      <th>jumpman_id</th>\n",
       "      <th>vehicle_type</th>\n",
       "      <th>pickup_place</th>\n",
       "      <th>place_category</th>\n",
       "      <th>item_name</th>\n",
       "      <th>item_quantity</th>\n",
       "      <th>item_category_name</th>\n",
       "      <th>how_long_it_took_to_order</th>\n",
       "      <th>pickup_lat</th>\n",
       "      <th>pickup_lon</th>\n",
       "      <th>dropoff_lat</th>\n",
       "      <th>dropoff_lon</th>\n",
       "      <th>when_the_delivery_started</th>\n",
       "      <th>when_the_Jumpman_arrived_at_pickup</th>\n",
       "      <th>when_the_Jumpman_left_pickup</th>\n",
       "      <th>when_the_Jumpman_arrived_at_dropoff</th>\n",
       "      <th>total_items</th>\n",
       "      <th>item_quantity_sum</th>\n",
       "    </tr>\n",
       "  </thead>\n",
       "  <tbody>\n",
       "    <tr>\n",
       "      <th>0</th>\n",
       "      <td>1457973</td>\n",
       "      <td>327168</td>\n",
       "      <td>162381</td>\n",
       "      <td>van</td>\n",
       "      <td>Melt Shop</td>\n",
       "      <td>American</td>\n",
       "      <td>Lemonade</td>\n",
       "      <td>1.0</td>\n",
       "      <td>Beverages</td>\n",
       "      <td>00:19:58.582052</td>\n",
       "      <td>40.744607</td>\n",
       "      <td>-73.990742</td>\n",
       "      <td>40.752073</td>\n",
       "      <td>-73.985370</td>\n",
       "      <td>2014-10-26 13:51:59.898924</td>\n",
       "      <td>NaN</td>\n",
       "      <td>NaN</td>\n",
       "      <td>2014-10-26 14:52:06.313088</td>\n",
       "      <td>2</td>\n",
       "      <td>2.0</td>\n",
       "    </tr>\n",
       "    <tr>\n",
       "      <th>1</th>\n",
       "      <td>1457973</td>\n",
       "      <td>327168</td>\n",
       "      <td>162381</td>\n",
       "      <td>van</td>\n",
       "      <td>Melt Shop</td>\n",
       "      <td>American</td>\n",
       "      <td>Turkey Truffle</td>\n",
       "      <td>1.0</td>\n",
       "      <td>Sandwiches</td>\n",
       "      <td>00:19:58.582052</td>\n",
       "      <td>40.744607</td>\n",
       "      <td>-73.990742</td>\n",
       "      <td>40.752073</td>\n",
       "      <td>-73.985370</td>\n",
       "      <td>2014-10-26 13:51:59.898924</td>\n",
       "      <td>NaN</td>\n",
       "      <td>NaN</td>\n",
       "      <td>2014-10-26 14:52:06.313088</td>\n",
       "      <td>2</td>\n",
       "      <td>2.0</td>\n",
       "    </tr>\n",
       "    <tr>\n",
       "      <th>2</th>\n",
       "      <td>1377056</td>\n",
       "      <td>64452</td>\n",
       "      <td>104533</td>\n",
       "      <td>bicycle</td>\n",
       "      <td>Prince Street Pizza</td>\n",
       "      <td>Pizza</td>\n",
       "      <td>Neapolitan Rice Balls</td>\n",
       "      <td>3.0</td>\n",
       "      <td>Munchables</td>\n",
       "      <td>00:25:09.107093</td>\n",
       "      <td>40.723080</td>\n",
       "      <td>-73.994615</td>\n",
       "      <td>40.719722</td>\n",
       "      <td>-73.991858</td>\n",
       "      <td>2014-10-16 21:58:58.65491</td>\n",
       "      <td>2014-10-16 22:26:02.120931</td>\n",
       "      <td>2014-10-16 22:48:23.091253</td>\n",
       "      <td>2014-10-16 22:59:22.948873</td>\n",
       "      <td>1</td>\n",
       "      <td>3.0</td>\n",
       "    </tr>\n",
       "    <tr>\n",
       "      <th>3</th>\n",
       "      <td>1476547</td>\n",
       "      <td>83095</td>\n",
       "      <td>132725</td>\n",
       "      <td>bicycle</td>\n",
       "      <td>Bareburger</td>\n",
       "      <td>Burger</td>\n",
       "      <td>Bare Sodas</td>\n",
       "      <td>1.0</td>\n",
       "      <td>Drinks</td>\n",
       "      <td>00:06:44.541717</td>\n",
       "      <td>40.728478</td>\n",
       "      <td>-73.998392</td>\n",
       "      <td>40.728606</td>\n",
       "      <td>-73.995143</td>\n",
       "      <td>2014-10-28 21:39:52.654394</td>\n",
       "      <td>2014-10-28 21:37:18.793405</td>\n",
       "      <td>2014-10-28 21:59:09.98481</td>\n",
       "      <td>2014-10-28 22:04:40.634962</td>\n",
       "      <td>1</td>\n",
       "      <td>1.0</td>\n",
       "    </tr>\n",
       "    <tr>\n",
       "      <th>4</th>\n",
       "      <td>1485494</td>\n",
       "      <td>271149</td>\n",
       "      <td>157175</td>\n",
       "      <td>bicycle</td>\n",
       "      <td>Juice Press</td>\n",
       "      <td>Juice Bar</td>\n",
       "      <td>OMG! My Favorite Juice!</td>\n",
       "      <td>1.0</td>\n",
       "      <td>Cold Pressed Juices</td>\n",
       "      <td>NaN</td>\n",
       "      <td>40.738868</td>\n",
       "      <td>-74.002747</td>\n",
       "      <td>40.751257</td>\n",
       "      <td>-74.005634</td>\n",
       "      <td>2014-10-30 10:54:11.531894</td>\n",
       "      <td>2014-10-30 11:04:17.759577</td>\n",
       "      <td>2014-10-30 11:16:37.895816</td>\n",
       "      <td>2014-10-30 11:32:38.090061</td>\n",
       "      <td>1</td>\n",
       "      <td>1.0</td>\n",
       "    </tr>\n",
       "  </tbody>\n",
       "</table>\n",
       "</div>"
      ],
      "text/plain": [
       "   delivery_id  customer_id  jumpman_id vehicle_type         pickup_place  \\\n",
       "0      1457973       327168      162381          van            Melt Shop   \n",
       "1      1457973       327168      162381          van            Melt Shop   \n",
       "2      1377056        64452      104533      bicycle  Prince Street Pizza   \n",
       "3      1476547        83095      132725      bicycle           Bareburger   \n",
       "4      1485494       271149      157175      bicycle          Juice Press   \n",
       "\n",
       "  place_category                item_name  item_quantity   item_category_name  \\\n",
       "0       American                 Lemonade            1.0            Beverages   \n",
       "1       American           Turkey Truffle            1.0           Sandwiches   \n",
       "2          Pizza    Neapolitan Rice Balls            3.0           Munchables   \n",
       "3         Burger               Bare Sodas            1.0               Drinks   \n",
       "4      Juice Bar  OMG! My Favorite Juice!            1.0  Cold Pressed Juices   \n",
       "\n",
       "  how_long_it_took_to_order  pickup_lat  pickup_lon  dropoff_lat  dropoff_lon  \\\n",
       "0           00:19:58.582052   40.744607  -73.990742    40.752073   -73.985370   \n",
       "1           00:19:58.582052   40.744607  -73.990742    40.752073   -73.985370   \n",
       "2           00:25:09.107093   40.723080  -73.994615    40.719722   -73.991858   \n",
       "3           00:06:44.541717   40.728478  -73.998392    40.728606   -73.995143   \n",
       "4                       NaN   40.738868  -74.002747    40.751257   -74.005634   \n",
       "\n",
       "    when_the_delivery_started when_the_Jumpman_arrived_at_pickup  \\\n",
       "0  2014-10-26 13:51:59.898924                                NaN   \n",
       "1  2014-10-26 13:51:59.898924                                NaN   \n",
       "2   2014-10-16 21:58:58.65491         2014-10-16 22:26:02.120931   \n",
       "3  2014-10-28 21:39:52.654394         2014-10-28 21:37:18.793405   \n",
       "4  2014-10-30 10:54:11.531894         2014-10-30 11:04:17.759577   \n",
       "\n",
       "  when_the_Jumpman_left_pickup when_the_Jumpman_arrived_at_dropoff  \\\n",
       "0                          NaN          2014-10-26 14:52:06.313088   \n",
       "1                          NaN          2014-10-26 14:52:06.313088   \n",
       "2   2014-10-16 22:48:23.091253          2014-10-16 22:59:22.948873   \n",
       "3    2014-10-28 21:59:09.98481          2014-10-28 22:04:40.634962   \n",
       "4   2014-10-30 11:16:37.895816          2014-10-30 11:32:38.090061   \n",
       "\n",
       "   total_items  item_quantity_sum  \n",
       "0            2                2.0  \n",
       "1            2                2.0  \n",
       "2            1                3.0  \n",
       "3            1                1.0  \n",
       "4            1                1.0  "
      ]
     },
     "execution_count": 87,
     "metadata": {},
     "output_type": "execute_result"
    }
   ],
   "source": [
    "merged = pd.merge(data, df_grouped, on = ['delivery_id','customer_id'], how='inner')\n",
    "merged.head()\n"
   ]
  },
  {
   "cell_type": "code",
   "execution_count": 88,
   "metadata": {},
   "outputs": [
    {
     "name": "stdout",
     "output_type": "stream",
     "text": [
      "<class 'pandas.core.frame.DataFrame'>\n",
      "Int64Index: 5983 entries, 0 to 5982\n",
      "Data columns (total 20 columns):\n",
      " #   Column                               Non-Null Count  Dtype  \n",
      "---  ------                               --------------  -----  \n",
      " 0   delivery_id                          5983 non-null   int64  \n",
      " 1   customer_id                          5983 non-null   int64  \n",
      " 2   jumpman_id                           5983 non-null   int64  \n",
      " 3   vehicle_type                         5983 non-null   object \n",
      " 4   pickup_place                         5983 non-null   object \n",
      " 5   place_category                       5100 non-null   object \n",
      " 6   item_name                            4753 non-null   object \n",
      " 7   item_quantity                        4753 non-null   float64\n",
      " 8   item_category_name                   4753 non-null   object \n",
      " 9   how_long_it_took_to_order            3038 non-null   object \n",
      " 10  pickup_lat                           5983 non-null   float64\n",
      " 11  pickup_lon                           5983 non-null   float64\n",
      " 12  dropoff_lat                          5983 non-null   float64\n",
      " 13  dropoff_lon                          5983 non-null   float64\n",
      " 14  when_the_delivery_started            5983 non-null   object \n",
      " 15  when_the_Jumpman_arrived_at_pickup   5433 non-null   object \n",
      " 16  when_the_Jumpman_left_pickup         5433 non-null   object \n",
      " 17  when_the_Jumpman_arrived_at_dropoff  5983 non-null   object \n",
      " 18  total_items                          5983 non-null   int64  \n",
      " 19  item_quantity_sum                    5983 non-null   float64\n",
      "dtypes: float64(6), int64(4), object(10)\n",
      "memory usage: 981.6+ KB\n"
     ]
    }
   ],
   "source": [
    "merged.info()"
   ]
  },
  {
   "cell_type": "code",
   "execution_count": 89,
   "metadata": {
    "scrolled": true
   },
   "outputs": [
    {
     "data": {
      "text/html": [
       "<div>\n",
       "<style scoped>\n",
       "    .dataframe tbody tr th:only-of-type {\n",
       "        vertical-align: middle;\n",
       "    }\n",
       "\n",
       "    .dataframe tbody tr th {\n",
       "        vertical-align: top;\n",
       "    }\n",
       "\n",
       "    .dataframe thead th {\n",
       "        text-align: right;\n",
       "    }\n",
       "</style>\n",
       "<table border=\"1\" class=\"dataframe\">\n",
       "  <thead>\n",
       "    <tr style=\"text-align: right;\">\n",
       "      <th></th>\n",
       "      <th>delivery_id</th>\n",
       "      <th>customer_id</th>\n",
       "      <th>jumpman_id</th>\n",
       "      <th>vehicle_type</th>\n",
       "      <th>pickup_place</th>\n",
       "      <th>place_category</th>\n",
       "      <th>item_name</th>\n",
       "      <th>item_quantity</th>\n",
       "      <th>item_category_name</th>\n",
       "      <th>how_long_it_took_to_order</th>\n",
       "      <th>pickup_lat</th>\n",
       "      <th>pickup_lon</th>\n",
       "      <th>dropoff_lat</th>\n",
       "      <th>dropoff_lon</th>\n",
       "      <th>when_the_delivery_started</th>\n",
       "      <th>when_the_Jumpman_arrived_at_pickup</th>\n",
       "      <th>when_the_Jumpman_left_pickup</th>\n",
       "      <th>when_the_Jumpman_arrived_at_dropoff</th>\n",
       "      <th>total_items</th>\n",
       "      <th>item_quantity_sum</th>\n",
       "    </tr>\n",
       "  </thead>\n",
       "  <tbody>\n",
       "    <tr>\n",
       "      <th>1</th>\n",
       "      <td>1457973</td>\n",
       "      <td>327168</td>\n",
       "      <td>162381</td>\n",
       "      <td>van</td>\n",
       "      <td>Melt Shop</td>\n",
       "      <td>American</td>\n",
       "      <td>Turkey Truffle</td>\n",
       "      <td>1.0</td>\n",
       "      <td>Sandwiches</td>\n",
       "      <td>00:19:58.582052</td>\n",
       "      <td>40.744607</td>\n",
       "      <td>-73.990742</td>\n",
       "      <td>40.752073</td>\n",
       "      <td>-73.985370</td>\n",
       "      <td>2014-10-26 13:51:59.898924</td>\n",
       "      <td>NaN</td>\n",
       "      <td>NaN</td>\n",
       "      <td>2014-10-26 14:52:06.313088</td>\n",
       "      <td>2</td>\n",
       "      <td>2.0</td>\n",
       "    </tr>\n",
       "    <tr>\n",
       "      <th>2</th>\n",
       "      <td>1377056</td>\n",
       "      <td>64452</td>\n",
       "      <td>104533</td>\n",
       "      <td>bicycle</td>\n",
       "      <td>Prince Street Pizza</td>\n",
       "      <td>Pizza</td>\n",
       "      <td>Neapolitan Rice Balls</td>\n",
       "      <td>3.0</td>\n",
       "      <td>Munchables</td>\n",
       "      <td>00:25:09.107093</td>\n",
       "      <td>40.723080</td>\n",
       "      <td>-73.994615</td>\n",
       "      <td>40.719722</td>\n",
       "      <td>-73.991858</td>\n",
       "      <td>2014-10-16 21:58:58.65491</td>\n",
       "      <td>2014-10-16 22:26:02.120931</td>\n",
       "      <td>2014-10-16 22:48:23.091253</td>\n",
       "      <td>2014-10-16 22:59:22.948873</td>\n",
       "      <td>1</td>\n",
       "      <td>3.0</td>\n",
       "    </tr>\n",
       "    <tr>\n",
       "      <th>3</th>\n",
       "      <td>1476547</td>\n",
       "      <td>83095</td>\n",
       "      <td>132725</td>\n",
       "      <td>bicycle</td>\n",
       "      <td>Bareburger</td>\n",
       "      <td>Burger</td>\n",
       "      <td>Bare Sodas</td>\n",
       "      <td>1.0</td>\n",
       "      <td>Drinks</td>\n",
       "      <td>00:06:44.541717</td>\n",
       "      <td>40.728478</td>\n",
       "      <td>-73.998392</td>\n",
       "      <td>40.728606</td>\n",
       "      <td>-73.995143</td>\n",
       "      <td>2014-10-28 21:39:52.654394</td>\n",
       "      <td>2014-10-28 21:37:18.793405</td>\n",
       "      <td>2014-10-28 21:59:09.98481</td>\n",
       "      <td>2014-10-28 22:04:40.634962</td>\n",
       "      <td>1</td>\n",
       "      <td>1.0</td>\n",
       "    </tr>\n",
       "    <tr>\n",
       "      <th>4</th>\n",
       "      <td>1485494</td>\n",
       "      <td>271149</td>\n",
       "      <td>157175</td>\n",
       "      <td>bicycle</td>\n",
       "      <td>Juice Press</td>\n",
       "      <td>Juice Bar</td>\n",
       "      <td>OMG! My Favorite Juice!</td>\n",
       "      <td>1.0</td>\n",
       "      <td>Cold Pressed Juices</td>\n",
       "      <td>NaN</td>\n",
       "      <td>40.738868</td>\n",
       "      <td>-74.002747</td>\n",
       "      <td>40.751257</td>\n",
       "      <td>-74.005634</td>\n",
       "      <td>2014-10-30 10:54:11.531894</td>\n",
       "      <td>2014-10-30 11:04:17.759577</td>\n",
       "      <td>2014-10-30 11:16:37.895816</td>\n",
       "      <td>2014-10-30 11:32:38.090061</td>\n",
       "      <td>1</td>\n",
       "      <td>1.0</td>\n",
       "    </tr>\n",
       "    <tr>\n",
       "      <th>5</th>\n",
       "      <td>1327707</td>\n",
       "      <td>122609</td>\n",
       "      <td>118095</td>\n",
       "      <td>bicycle</td>\n",
       "      <td>Blue Ribbon Sushi</td>\n",
       "      <td>Japanese</td>\n",
       "      <td>Spicy Tuna &amp; Tempura Flakes</td>\n",
       "      <td>2.0</td>\n",
       "      <td>Maki (Special Rolls)</td>\n",
       "      <td>00:03:45.035418</td>\n",
       "      <td>40.726110</td>\n",
       "      <td>-74.002492</td>\n",
       "      <td>40.709323</td>\n",
       "      <td>-74.015867</td>\n",
       "      <td>2014-10-10 00:07:18.450505</td>\n",
       "      <td>2014-10-10 00:14:42.702223</td>\n",
       "      <td>2014-10-10 00:25:19.400294</td>\n",
       "      <td>2014-10-10 00:48:27.150595</td>\n",
       "      <td>1</td>\n",
       "      <td>2.0</td>\n",
       "    </tr>\n",
       "  </tbody>\n",
       "</table>\n",
       "</div>"
      ],
      "text/plain": [
       "   delivery_id  customer_id  jumpman_id vehicle_type         pickup_place  \\\n",
       "1      1457973       327168      162381          van            Melt Shop   \n",
       "2      1377056        64452      104533      bicycle  Prince Street Pizza   \n",
       "3      1476547        83095      132725      bicycle           Bareburger   \n",
       "4      1485494       271149      157175      bicycle          Juice Press   \n",
       "5      1327707       122609      118095      bicycle    Blue Ribbon Sushi   \n",
       "\n",
       "  place_category                    item_name  item_quantity  \\\n",
       "1       American               Turkey Truffle            1.0   \n",
       "2          Pizza        Neapolitan Rice Balls            3.0   \n",
       "3         Burger                   Bare Sodas            1.0   \n",
       "4      Juice Bar      OMG! My Favorite Juice!            1.0   \n",
       "5       Japanese  Spicy Tuna & Tempura Flakes            2.0   \n",
       "\n",
       "     item_category_name how_long_it_took_to_order  pickup_lat  pickup_lon  \\\n",
       "1            Sandwiches           00:19:58.582052   40.744607  -73.990742   \n",
       "2            Munchables           00:25:09.107093   40.723080  -73.994615   \n",
       "3                Drinks           00:06:44.541717   40.728478  -73.998392   \n",
       "4   Cold Pressed Juices                       NaN   40.738868  -74.002747   \n",
       "5  Maki (Special Rolls)           00:03:45.035418   40.726110  -74.002492   \n",
       "\n",
       "   dropoff_lat  dropoff_lon   when_the_delivery_started  \\\n",
       "1    40.752073   -73.985370  2014-10-26 13:51:59.898924   \n",
       "2    40.719722   -73.991858   2014-10-16 21:58:58.65491   \n",
       "3    40.728606   -73.995143  2014-10-28 21:39:52.654394   \n",
       "4    40.751257   -74.005634  2014-10-30 10:54:11.531894   \n",
       "5    40.709323   -74.015867  2014-10-10 00:07:18.450505   \n",
       "\n",
       "  when_the_Jumpman_arrived_at_pickup when_the_Jumpman_left_pickup  \\\n",
       "1                                NaN                          NaN   \n",
       "2         2014-10-16 22:26:02.120931   2014-10-16 22:48:23.091253   \n",
       "3         2014-10-28 21:37:18.793405    2014-10-28 21:59:09.98481   \n",
       "4         2014-10-30 11:04:17.759577   2014-10-30 11:16:37.895816   \n",
       "5         2014-10-10 00:14:42.702223   2014-10-10 00:25:19.400294   \n",
       "\n",
       "  when_the_Jumpman_arrived_at_dropoff  total_items  item_quantity_sum  \n",
       "1          2014-10-26 14:52:06.313088            2                2.0  \n",
       "2          2014-10-16 22:59:22.948873            1                3.0  \n",
       "3          2014-10-28 22:04:40.634962            1                1.0  \n",
       "4          2014-10-30 11:32:38.090061            1                1.0  \n",
       "5          2014-10-10 00:48:27.150595            1                2.0  "
      ]
     },
     "execution_count": 89,
     "metadata": {},
     "output_type": "execute_result"
    }
   ],
   "source": [
    "merged = merged.drop_duplicates(subset='delivery_id', keep='last')\n",
    "merged.head()"
   ]
  },
  {
   "cell_type": "code",
   "execution_count": 90,
   "metadata": {},
   "outputs": [
    {
     "data": {
      "text/html": [
       "<div>\n",
       "<style scoped>\n",
       "    .dataframe tbody tr th:only-of-type {\n",
       "        vertical-align: middle;\n",
       "    }\n",
       "\n",
       "    .dataframe tbody tr th {\n",
       "        vertical-align: top;\n",
       "    }\n",
       "\n",
       "    .dataframe thead th {\n",
       "        text-align: right;\n",
       "    }\n",
       "</style>\n",
       "<table border=\"1\" class=\"dataframe\">\n",
       "  <thead>\n",
       "    <tr style=\"text-align: right;\">\n",
       "      <th></th>\n",
       "      <th>delivery_id</th>\n",
       "      <th>customer_id</th>\n",
       "      <th>jumpman_id</th>\n",
       "      <th>vehicle_type</th>\n",
       "      <th>pickup_place</th>\n",
       "      <th>place_category</th>\n",
       "      <th>how_long_it_took_to_order</th>\n",
       "      <th>pickup_lat</th>\n",
       "      <th>pickup_lon</th>\n",
       "      <th>dropoff_lat</th>\n",
       "      <th>dropoff_lon</th>\n",
       "      <th>when_the_delivery_started</th>\n",
       "      <th>when_the_Jumpman_arrived_at_pickup</th>\n",
       "      <th>when_the_Jumpman_left_pickup</th>\n",
       "      <th>when_the_Jumpman_arrived_at_dropoff</th>\n",
       "      <th>total_items</th>\n",
       "      <th>item_quantity_sum</th>\n",
       "    </tr>\n",
       "  </thead>\n",
       "  <tbody>\n",
       "    <tr>\n",
       "      <th>1</th>\n",
       "      <td>1457973</td>\n",
       "      <td>327168</td>\n",
       "      <td>162381</td>\n",
       "      <td>van</td>\n",
       "      <td>Melt Shop</td>\n",
       "      <td>American</td>\n",
       "      <td>00:19:58.582052</td>\n",
       "      <td>40.744607</td>\n",
       "      <td>-73.990742</td>\n",
       "      <td>40.752073</td>\n",
       "      <td>-73.985370</td>\n",
       "      <td>2014-10-26 13:51:59.898924</td>\n",
       "      <td>NaN</td>\n",
       "      <td>NaN</td>\n",
       "      <td>2014-10-26 14:52:06.313088</td>\n",
       "      <td>2</td>\n",
       "      <td>2.0</td>\n",
       "    </tr>\n",
       "    <tr>\n",
       "      <th>2</th>\n",
       "      <td>1377056</td>\n",
       "      <td>64452</td>\n",
       "      <td>104533</td>\n",
       "      <td>bicycle</td>\n",
       "      <td>Prince Street Pizza</td>\n",
       "      <td>Pizza</td>\n",
       "      <td>00:25:09.107093</td>\n",
       "      <td>40.723080</td>\n",
       "      <td>-73.994615</td>\n",
       "      <td>40.719722</td>\n",
       "      <td>-73.991858</td>\n",
       "      <td>2014-10-16 21:58:58.65491</td>\n",
       "      <td>2014-10-16 22:26:02.120931</td>\n",
       "      <td>2014-10-16 22:48:23.091253</td>\n",
       "      <td>2014-10-16 22:59:22.948873</td>\n",
       "      <td>1</td>\n",
       "      <td>3.0</td>\n",
       "    </tr>\n",
       "    <tr>\n",
       "      <th>3</th>\n",
       "      <td>1476547</td>\n",
       "      <td>83095</td>\n",
       "      <td>132725</td>\n",
       "      <td>bicycle</td>\n",
       "      <td>Bareburger</td>\n",
       "      <td>Burger</td>\n",
       "      <td>00:06:44.541717</td>\n",
       "      <td>40.728478</td>\n",
       "      <td>-73.998392</td>\n",
       "      <td>40.728606</td>\n",
       "      <td>-73.995143</td>\n",
       "      <td>2014-10-28 21:39:52.654394</td>\n",
       "      <td>2014-10-28 21:37:18.793405</td>\n",
       "      <td>2014-10-28 21:59:09.98481</td>\n",
       "      <td>2014-10-28 22:04:40.634962</td>\n",
       "      <td>1</td>\n",
       "      <td>1.0</td>\n",
       "    </tr>\n",
       "    <tr>\n",
       "      <th>4</th>\n",
       "      <td>1485494</td>\n",
       "      <td>271149</td>\n",
       "      <td>157175</td>\n",
       "      <td>bicycle</td>\n",
       "      <td>Juice Press</td>\n",
       "      <td>Juice Bar</td>\n",
       "      <td>NaN</td>\n",
       "      <td>40.738868</td>\n",
       "      <td>-74.002747</td>\n",
       "      <td>40.751257</td>\n",
       "      <td>-74.005634</td>\n",
       "      <td>2014-10-30 10:54:11.531894</td>\n",
       "      <td>2014-10-30 11:04:17.759577</td>\n",
       "      <td>2014-10-30 11:16:37.895816</td>\n",
       "      <td>2014-10-30 11:32:38.090061</td>\n",
       "      <td>1</td>\n",
       "      <td>1.0</td>\n",
       "    </tr>\n",
       "    <tr>\n",
       "      <th>5</th>\n",
       "      <td>1327707</td>\n",
       "      <td>122609</td>\n",
       "      <td>118095</td>\n",
       "      <td>bicycle</td>\n",
       "      <td>Blue Ribbon Sushi</td>\n",
       "      <td>Japanese</td>\n",
       "      <td>00:03:45.035418</td>\n",
       "      <td>40.726110</td>\n",
       "      <td>-74.002492</td>\n",
       "      <td>40.709323</td>\n",
       "      <td>-74.015867</td>\n",
       "      <td>2014-10-10 00:07:18.450505</td>\n",
       "      <td>2014-10-10 00:14:42.702223</td>\n",
       "      <td>2014-10-10 00:25:19.400294</td>\n",
       "      <td>2014-10-10 00:48:27.150595</td>\n",
       "      <td>1</td>\n",
       "      <td>2.0</td>\n",
       "    </tr>\n",
       "  </tbody>\n",
       "</table>\n",
       "</div>"
      ],
      "text/plain": [
       "   delivery_id  customer_id  jumpman_id vehicle_type         pickup_place  \\\n",
       "1      1457973       327168      162381          van            Melt Shop   \n",
       "2      1377056        64452      104533      bicycle  Prince Street Pizza   \n",
       "3      1476547        83095      132725      bicycle           Bareburger   \n",
       "4      1485494       271149      157175      bicycle          Juice Press   \n",
       "5      1327707       122609      118095      bicycle    Blue Ribbon Sushi   \n",
       "\n",
       "  place_category how_long_it_took_to_order  pickup_lat  pickup_lon  \\\n",
       "1       American           00:19:58.582052   40.744607  -73.990742   \n",
       "2          Pizza           00:25:09.107093   40.723080  -73.994615   \n",
       "3         Burger           00:06:44.541717   40.728478  -73.998392   \n",
       "4      Juice Bar                       NaN   40.738868  -74.002747   \n",
       "5       Japanese           00:03:45.035418   40.726110  -74.002492   \n",
       "\n",
       "   dropoff_lat  dropoff_lon   when_the_delivery_started  \\\n",
       "1    40.752073   -73.985370  2014-10-26 13:51:59.898924   \n",
       "2    40.719722   -73.991858   2014-10-16 21:58:58.65491   \n",
       "3    40.728606   -73.995143  2014-10-28 21:39:52.654394   \n",
       "4    40.751257   -74.005634  2014-10-30 10:54:11.531894   \n",
       "5    40.709323   -74.015867  2014-10-10 00:07:18.450505   \n",
       "\n",
       "  when_the_Jumpman_arrived_at_pickup when_the_Jumpman_left_pickup  \\\n",
       "1                                NaN                          NaN   \n",
       "2         2014-10-16 22:26:02.120931   2014-10-16 22:48:23.091253   \n",
       "3         2014-10-28 21:37:18.793405    2014-10-28 21:59:09.98481   \n",
       "4         2014-10-30 11:04:17.759577   2014-10-30 11:16:37.895816   \n",
       "5         2014-10-10 00:14:42.702223   2014-10-10 00:25:19.400294   \n",
       "\n",
       "  when_the_Jumpman_arrived_at_dropoff  total_items  item_quantity_sum  \n",
       "1          2014-10-26 14:52:06.313088            2                2.0  \n",
       "2          2014-10-16 22:59:22.948873            1                3.0  \n",
       "3          2014-10-28 22:04:40.634962            1                1.0  \n",
       "4          2014-10-30 11:32:38.090061            1                1.0  \n",
       "5          2014-10-10 00:48:27.150595            1                2.0  "
      ]
     },
     "execution_count": 90,
     "metadata": {},
     "output_type": "execute_result"
    }
   ],
   "source": [
    "merged = merged.drop(columns=['item_name','item_quantity','item_category_name'])\n",
    "merged.head()"
   ]
  },
  {
   "cell_type": "code",
   "execution_count": 91,
   "metadata": {},
   "outputs": [
    {
     "data": {
      "text/plain": [
       "(5214, 17)"
      ]
     },
     "execution_count": 91,
     "metadata": {},
     "output_type": "execute_result"
    }
   ],
   "source": [
    "master= merged \n",
    "master.shape"
   ]
  },
  {
   "cell_type": "markdown",
   "metadata": {},
   "source": [
    "We removed duplicate delivery_orders, and aggregated item_names and item_quantity to be in delivery_id level. Total Orders change from 5983 to 5214."
   ]
  },
  {
   "cell_type": "markdown",
   "metadata": {},
   "source": [
    "### Exploratory Data Analysis"
   ]
  },
  {
   "cell_type": "markdown",
   "metadata": {},
   "source": [
    "#### Let's look at basic metrics"
   ]
  },
  {
   "cell_type": "code",
   "execution_count": 92,
   "metadata": {},
   "outputs": [
    {
     "name": "stdout",
     "output_type": "stream",
     "text": [
      "start date: 2014-10-01 00:07:58.632482\n",
      "end date: 2014-10-30 23:08:43.4819\n"
     ]
    }
   ],
   "source": [
    "print(f'start date: {master.when_the_delivery_started.min()}')\n",
    "print(f'end date: {master.when_the_delivery_started.max()}')"
   ]
  },
  {
   "cell_type": "markdown",
   "metadata": {},
   "source": [
    "#### This is 2014 October Data. Let's see how New York City performed"
   ]
  },
  {
   "cell_type": "code",
   "execution_count": 93,
   "metadata": {
    "scrolled": true
   },
   "outputs": [
    {
     "name": "stdout",
     "output_type": "stream",
     "text": [
      "\u001b[1mmonthly order:\u001b[0m 5214\n",
      "\u001b[1mmonthly buyer:\u001b[0m 3192\n",
      "\u001b[1mmonthly jumpman:\u001b[0m 578\n",
      "\u001b[1mmonthly avg order frequency:\u001b[0m 1.63\n",
      "\u001b[1mmonthly avg delivery frequency:\u001b[0m 9.02\n"
     ]
    }
   ],
   "source": [
    "print(f'\\033[1mmonthly order:\\033[0m {master.delivery_id.nunique()}')\n",
    "print(f'\\033[1mmonthly buyer:\\033[0m {master.customer_id.nunique()}')\n",
    "print(f'\\033[1mmonthly jumpman:\\033[0m {master.jumpman_id.nunique()}')\n",
    "\n",
    "print(f'\\033[1mmonthly avg order frequency:\\033[0m {round(master.delivery_id.nunique() / master.customer_id.nunique(),2)}')\n",
    "print(f'\\033[1mmonthly avg delivery frequency:\\033[0m {round(master.delivery_id.nunique() / master.jumpman_id.nunique(),2)}')"
   ]
  },
  {
   "cell_type": "markdown",
   "metadata": {},
   "source": [
    "Let's see if there was any weekly growth. We will reference dropoff time and add hour and weekofmonth columns "
   ]
  },
  {
   "cell_type": "code",
   "execution_count": 94,
   "metadata": {},
   "outputs": [],
   "source": [
    "#using datetime function\n",
    "\n",
    "master.when_the_delivery_started= pd.to_datetime(master.when_the_delivery_started)\n",
    "master.when_the_Jumpman_arrived_at_pickup = pd.to_datetime(master.when_the_Jumpman_arrived_at_pickup)\n",
    "master.when_the_Jumpman_left_pickup = pd.to_datetime(master.when_the_Jumpman_left_pickup)\n",
    "master.when_the_Jumpman_arrived_at_dropoff= pd.to_datetime(master.when_the_Jumpman_arrived_at_dropoff)"
   ]
  },
  {
   "cell_type": "code",
   "execution_count": 95,
   "metadata": {
    "scrolled": true
   },
   "outputs": [
    {
     "data": {
      "text/html": [
       "<div>\n",
       "<style scoped>\n",
       "    .dataframe tbody tr th:only-of-type {\n",
       "        vertical-align: middle;\n",
       "    }\n",
       "\n",
       "    .dataframe tbody tr th {\n",
       "        vertical-align: top;\n",
       "    }\n",
       "\n",
       "    .dataframe thead th {\n",
       "        text-align: right;\n",
       "    }\n",
       "</style>\n",
       "<table border=\"1\" class=\"dataframe\">\n",
       "  <thead>\n",
       "    <tr style=\"text-align: right;\">\n",
       "      <th></th>\n",
       "      <th>delivery_id</th>\n",
       "      <th>customer_id</th>\n",
       "      <th>jumpman_id</th>\n",
       "      <th>vehicle_type</th>\n",
       "      <th>pickup_place</th>\n",
       "      <th>place_category</th>\n",
       "      <th>how_long_it_took_to_order</th>\n",
       "      <th>pickup_lat</th>\n",
       "      <th>pickup_lon</th>\n",
       "      <th>dropoff_lat</th>\n",
       "      <th>...</th>\n",
       "      <th>when_the_delivery_started</th>\n",
       "      <th>when_the_Jumpman_arrived_at_pickup</th>\n",
       "      <th>when_the_Jumpman_left_pickup</th>\n",
       "      <th>when_the_Jumpman_arrived_at_dropoff</th>\n",
       "      <th>total_items</th>\n",
       "      <th>item_quantity_sum</th>\n",
       "      <th>year</th>\n",
       "      <th>wom</th>\n",
       "      <th>dow</th>\n",
       "      <th>hour</th>\n",
       "    </tr>\n",
       "  </thead>\n",
       "  <tbody>\n",
       "    <tr>\n",
       "      <th>1</th>\n",
       "      <td>1457973</td>\n",
       "      <td>327168</td>\n",
       "      <td>162381</td>\n",
       "      <td>van</td>\n",
       "      <td>Melt Shop</td>\n",
       "      <td>American</td>\n",
       "      <td>00:19:58.582052</td>\n",
       "      <td>40.744607</td>\n",
       "      <td>-73.990742</td>\n",
       "      <td>40.752073</td>\n",
       "      <td>...</td>\n",
       "      <td>2014-10-26 13:51:59.898924</td>\n",
       "      <td>NaT</td>\n",
       "      <td>NaT</td>\n",
       "      <td>2014-10-26 14:52:06.313088</td>\n",
       "      <td>2</td>\n",
       "      <td>2.0</td>\n",
       "      <td>2014</td>\n",
       "      <td>4</td>\n",
       "      <td>6</td>\n",
       "      <td>14</td>\n",
       "    </tr>\n",
       "    <tr>\n",
       "      <th>2</th>\n",
       "      <td>1377056</td>\n",
       "      <td>64452</td>\n",
       "      <td>104533</td>\n",
       "      <td>bicycle</td>\n",
       "      <td>Prince Street Pizza</td>\n",
       "      <td>Pizza</td>\n",
       "      <td>00:25:09.107093</td>\n",
       "      <td>40.723080</td>\n",
       "      <td>-73.994615</td>\n",
       "      <td>40.719722</td>\n",
       "      <td>...</td>\n",
       "      <td>2014-10-16 21:58:58.654910</td>\n",
       "      <td>2014-10-16 22:26:02.120931</td>\n",
       "      <td>2014-10-16 22:48:23.091253</td>\n",
       "      <td>2014-10-16 22:59:22.948873</td>\n",
       "      <td>1</td>\n",
       "      <td>3.0</td>\n",
       "      <td>2014</td>\n",
       "      <td>3</td>\n",
       "      <td>3</td>\n",
       "      <td>22</td>\n",
       "    </tr>\n",
       "    <tr>\n",
       "      <th>3</th>\n",
       "      <td>1476547</td>\n",
       "      <td>83095</td>\n",
       "      <td>132725</td>\n",
       "      <td>bicycle</td>\n",
       "      <td>Bareburger</td>\n",
       "      <td>Burger</td>\n",
       "      <td>00:06:44.541717</td>\n",
       "      <td>40.728478</td>\n",
       "      <td>-73.998392</td>\n",
       "      <td>40.728606</td>\n",
       "      <td>...</td>\n",
       "      <td>2014-10-28 21:39:52.654394</td>\n",
       "      <td>2014-10-28 21:37:18.793405</td>\n",
       "      <td>2014-10-28 21:59:09.984810</td>\n",
       "      <td>2014-10-28 22:04:40.634962</td>\n",
       "      <td>1</td>\n",
       "      <td>1.0</td>\n",
       "      <td>2014</td>\n",
       "      <td>4</td>\n",
       "      <td>1</td>\n",
       "      <td>22</td>\n",
       "    </tr>\n",
       "    <tr>\n",
       "      <th>4</th>\n",
       "      <td>1485494</td>\n",
       "      <td>271149</td>\n",
       "      <td>157175</td>\n",
       "      <td>bicycle</td>\n",
       "      <td>Juice Press</td>\n",
       "      <td>Juice Bar</td>\n",
       "      <td>NaN</td>\n",
       "      <td>40.738868</td>\n",
       "      <td>-74.002747</td>\n",
       "      <td>40.751257</td>\n",
       "      <td>...</td>\n",
       "      <td>2014-10-30 10:54:11.531894</td>\n",
       "      <td>2014-10-30 11:04:17.759577</td>\n",
       "      <td>2014-10-30 11:16:37.895816</td>\n",
       "      <td>2014-10-30 11:32:38.090061</td>\n",
       "      <td>1</td>\n",
       "      <td>1.0</td>\n",
       "      <td>2014</td>\n",
       "      <td>5</td>\n",
       "      <td>3</td>\n",
       "      <td>11</td>\n",
       "    </tr>\n",
       "    <tr>\n",
       "      <th>5</th>\n",
       "      <td>1327707</td>\n",
       "      <td>122609</td>\n",
       "      <td>118095</td>\n",
       "      <td>bicycle</td>\n",
       "      <td>Blue Ribbon Sushi</td>\n",
       "      <td>Japanese</td>\n",
       "      <td>00:03:45.035418</td>\n",
       "      <td>40.726110</td>\n",
       "      <td>-74.002492</td>\n",
       "      <td>40.709323</td>\n",
       "      <td>...</td>\n",
       "      <td>2014-10-10 00:07:18.450505</td>\n",
       "      <td>2014-10-10 00:14:42.702223</td>\n",
       "      <td>2014-10-10 00:25:19.400294</td>\n",
       "      <td>2014-10-10 00:48:27.150595</td>\n",
       "      <td>1</td>\n",
       "      <td>2.0</td>\n",
       "      <td>2014</td>\n",
       "      <td>2</td>\n",
       "      <td>4</td>\n",
       "      <td>0</td>\n",
       "    </tr>\n",
       "  </tbody>\n",
       "</table>\n",
       "<p>5 rows × 21 columns</p>\n",
       "</div>"
      ],
      "text/plain": [
       "   delivery_id  customer_id  jumpman_id vehicle_type         pickup_place  \\\n",
       "1      1457973       327168      162381          van            Melt Shop   \n",
       "2      1377056        64452      104533      bicycle  Prince Street Pizza   \n",
       "3      1476547        83095      132725      bicycle           Bareburger   \n",
       "4      1485494       271149      157175      bicycle          Juice Press   \n",
       "5      1327707       122609      118095      bicycle    Blue Ribbon Sushi   \n",
       "\n",
       "  place_category how_long_it_took_to_order  pickup_lat  pickup_lon  \\\n",
       "1       American           00:19:58.582052   40.744607  -73.990742   \n",
       "2          Pizza           00:25:09.107093   40.723080  -73.994615   \n",
       "3         Burger           00:06:44.541717   40.728478  -73.998392   \n",
       "4      Juice Bar                       NaN   40.738868  -74.002747   \n",
       "5       Japanese           00:03:45.035418   40.726110  -74.002492   \n",
       "\n",
       "   dropoff_lat  ...  when_the_delivery_started  \\\n",
       "1    40.752073  ... 2014-10-26 13:51:59.898924   \n",
       "2    40.719722  ... 2014-10-16 21:58:58.654910   \n",
       "3    40.728606  ... 2014-10-28 21:39:52.654394   \n",
       "4    40.751257  ... 2014-10-30 10:54:11.531894   \n",
       "5    40.709323  ... 2014-10-10 00:07:18.450505   \n",
       "\n",
       "  when_the_Jumpman_arrived_at_pickup when_the_Jumpman_left_pickup  \\\n",
       "1                                NaT                          NaT   \n",
       "2         2014-10-16 22:26:02.120931   2014-10-16 22:48:23.091253   \n",
       "3         2014-10-28 21:37:18.793405   2014-10-28 21:59:09.984810   \n",
       "4         2014-10-30 11:04:17.759577   2014-10-30 11:16:37.895816   \n",
       "5         2014-10-10 00:14:42.702223   2014-10-10 00:25:19.400294   \n",
       "\n",
       "  when_the_Jumpman_arrived_at_dropoff total_items  item_quantity_sum  year  \\\n",
       "1          2014-10-26 14:52:06.313088           2                2.0  2014   \n",
       "2          2014-10-16 22:59:22.948873           1                3.0  2014   \n",
       "3          2014-10-28 22:04:40.634962           1                1.0  2014   \n",
       "4          2014-10-30 11:32:38.090061           1                1.0  2014   \n",
       "5          2014-10-10 00:48:27.150595           1                2.0  2014   \n",
       "\n",
       "   wom  dow  hour  \n",
       "1    4    6    14  \n",
       "2    3    3    22  \n",
       "3    4    1    22  \n",
       "4    5    3    11  \n",
       "5    2    4     0  \n",
       "\n",
       "[5 rows x 21 columns]"
      ]
     },
     "execution_count": 95,
     "metadata": {},
     "output_type": "execute_result"
    }
   ],
   "source": [
    "master['year']=pd.DatetimeIndex(master['when_the_Jumpman_arrived_at_dropoff']).year\n",
    "master['wom']=master['when_the_Jumpman_arrived_at_dropoff'].apply(lambda d: (d.day-1) // 7+1)\n",
    "master['dow'] = pd.to_datetime(master.when_the_Jumpman_arrived_at_dropoff).dt.dayofweek\n",
    "master['hour']=pd.DatetimeIndex(master['when_the_Jumpman_arrived_at_dropoff']).hour\n",
    "\n",
    "master.head()"
   ]
  },
  {
   "cell_type": "code",
   "execution_count": 96,
   "metadata": {},
   "outputs": [
    {
     "name": "stderr",
     "output_type": "stream",
     "text": [
      "/home/artekki/anaconda3/envs/artekki_env/lib/python3.7/site-packages/ipykernel_launcher.py:1: FutureWarning: Indexing with multiple keys (implicitly converted to a tuple of keys) will be deprecated, use a list instead.\n",
      "  \"\"\"Entry point for launching an IPython kernel.\n"
     ]
    },
    {
     "data": {
      "text/html": [
       "<div>\n",
       "<style scoped>\n",
       "    .dataframe tbody tr th:only-of-type {\n",
       "        vertical-align: middle;\n",
       "    }\n",
       "\n",
       "    .dataframe tbody tr th {\n",
       "        vertical-align: top;\n",
       "    }\n",
       "\n",
       "    .dataframe thead th {\n",
       "        text-align: right;\n",
       "    }\n",
       "</style>\n",
       "<table border=\"1\" class=\"dataframe\">\n",
       "  <thead>\n",
       "    <tr style=\"text-align: right;\">\n",
       "      <th></th>\n",
       "      <th>wom</th>\n",
       "      <th>delivery_id</th>\n",
       "      <th>customer_id</th>\n",
       "      <th>jumpman_id</th>\n",
       "    </tr>\n",
       "  </thead>\n",
       "  <tbody>\n",
       "    <tr>\n",
       "      <th>0</th>\n",
       "      <td>1</td>\n",
       "      <td>1151</td>\n",
       "      <td>954</td>\n",
       "      <td>299</td>\n",
       "    </tr>\n",
       "    <tr>\n",
       "      <th>1</th>\n",
       "      <td>2</td>\n",
       "      <td>1191</td>\n",
       "      <td>994</td>\n",
       "      <td>319</td>\n",
       "    </tr>\n",
       "    <tr>\n",
       "      <th>2</th>\n",
       "      <td>3</td>\n",
       "      <td>1250</td>\n",
       "      <td>1041</td>\n",
       "      <td>323</td>\n",
       "    </tr>\n",
       "    <tr>\n",
       "      <th>3</th>\n",
       "      <td>4</td>\n",
       "      <td>1277</td>\n",
       "      <td>1065</td>\n",
       "      <td>333</td>\n",
       "    </tr>\n",
       "    <tr>\n",
       "      <th>4</th>\n",
       "      <td>5</td>\n",
       "      <td>345</td>\n",
       "      <td>322</td>\n",
       "      <td>166</td>\n",
       "    </tr>\n",
       "  </tbody>\n",
       "</table>\n",
       "</div>"
      ],
      "text/plain": [
       "   wom  delivery_id  customer_id  jumpman_id\n",
       "0    1         1151          954         299\n",
       "1    2         1191          994         319\n",
       "2    3         1250         1041         323\n",
       "3    4         1277         1065         333\n",
       "4    5          345          322         166"
      ]
     },
     "execution_count": 96,
     "metadata": {},
     "output_type": "execute_result"
    }
   ],
   "source": [
    "wom = master.groupby(\"wom\")['delivery_id','customer_id', 'jumpman_id'].nunique().reset_index()\n",
    "wom.head()"
   ]
  },
  {
   "cell_type": "code",
   "execution_count": 97,
   "metadata": {},
   "outputs": [
    {
     "name": "stdout",
     "output_type": "stream",
     "text": [
      "\u001b[1mweek1 to week2 order growth:\u001b[0m 8.59%\n",
      "\u001b[1mweek2 to week3 order growth:\u001b[0m 0.90%\n",
      "\u001b[1mweek3 to week4 order growth:\u001b[0m 3.96%\n"
     ]
    }
   ],
   "source": [
    "print(f'\\033[1mweek1 to week2 order growth:\\033[0m {\"{:.2%}\".format((1226-1129)/1129)}')\n",
    "print(f'\\033[1mweek2 to week3 order growth:\\033[0m {\"{:.2%}\".format((1237-1226)/1226)}')\n",
    "print(f'\\033[1mweek3 to week4 order growth:\\033[0m {\"{:.2%}\".format((1286-1237)/1237)}')"
   ]
  },
  {
   "cell_type": "code",
   "execution_count": 98,
   "metadata": {},
   "outputs": [
    {
     "name": "stdout",
     "output_type": "stream",
     "text": [
      "\u001b[1mweek1 to week2 buyer growth:\u001b[0m 4.74%\n",
      "\u001b[1mweek2 to week3 buyer growth:\u001b[0m 2.76%\n",
      "\u001b[1mweek3 to week4 buyer growth:\u001b[0m 2.20%\n"
     ]
    }
   ],
   "source": [
    "print(f'\\033[1mweek1 to week2 buyer growth:\\033[0m {\"{:.2%}\".format((1016-970)/970)}')\n",
    "print(f'\\033[1mweek2 to week3 buyer growth:\\033[0m {\"{:.2%}\".format((1044-1016)/1016)}')\n",
    "print(f'\\033[1mweek3 to week4 buyer growth:\\033[0m {\"{:.2%}\".format((1067-1044)/1044)}')"
   ]
  },
  {
   "cell_type": "code",
   "execution_count": 99,
   "metadata": {},
   "outputs": [
    {
     "name": "stdout",
     "output_type": "stream",
     "text": [
      "\u001b[1mweek1 OF:\u001b[0m 1.16\n",
      "\u001b[1mweek2 OF:\u001b[0m 1.21\n",
      "\u001b[1mweek3 OF:\u001b[0m 1.18\n",
      "\u001b[1mweek4 OF:\u001b[0m 1.21\n"
     ]
    }
   ],
   "source": [
    "print(f'\\033[1mweek1 OF:\\033[0m {round(1129/970, 2)}')\n",
    "print(f'\\033[1mweek2 OF:\\033[0m {round(1226/1016, 2)}')\n",
    "print(f'\\033[1mweek3 OF:\\033[0m {round(1237/1044, 2)}')\n",
    "print(f'\\033[1mweek4 OF:\\033[0m {round(1286/1067, 2)}')"
   ]
  },
  {
   "cell_type": "markdown",
   "metadata": {},
   "source": [
    "We can see uptick on orders and buyers from week1 to week2. We can deepdive what caused the increase. It can be due to promotion, new buyer acquistion. Good news is that order volume and total buyers remained constant for the rest of the month. Let's deep dive more on how buyers are engaging."
   ]
  },
  {
   "cell_type": "code",
   "execution_count": 100,
   "metadata": {},
   "outputs": [
    {
     "data": {
      "text/html": [
       "<div>\n",
       "<style scoped>\n",
       "    .dataframe tbody tr th:only-of-type {\n",
       "        vertical-align: middle;\n",
       "    }\n",
       "\n",
       "    .dataframe tbody tr th {\n",
       "        vertical-align: top;\n",
       "    }\n",
       "\n",
       "    .dataframe thead th {\n",
       "        text-align: right;\n",
       "    }\n",
       "</style>\n",
       "<table border=\"1\" class=\"dataframe\">\n",
       "  <thead>\n",
       "    <tr style=\"text-align: right;\">\n",
       "      <th></th>\n",
       "      <th>customer_id</th>\n",
       "      <th>delivery_id</th>\n",
       "    </tr>\n",
       "  </thead>\n",
       "  <tbody>\n",
       "    <tr>\n",
       "      <th>2850</th>\n",
       "      <td>369272</td>\n",
       "      <td>23</td>\n",
       "    </tr>\n",
       "    <tr>\n",
       "      <th>247</th>\n",
       "      <td>52832</td>\n",
       "      <td>17</td>\n",
       "    </tr>\n",
       "    <tr>\n",
       "      <th>899</th>\n",
       "      <td>91817</td>\n",
       "      <td>15</td>\n",
       "    </tr>\n",
       "    <tr>\n",
       "      <th>1386</th>\n",
       "      <td>125123</td>\n",
       "      <td>15</td>\n",
       "    </tr>\n",
       "    <tr>\n",
       "      <th>2212</th>\n",
       "      <td>275689</td>\n",
       "      <td>14</td>\n",
       "    </tr>\n",
       "  </tbody>\n",
       "</table>\n",
       "</div>"
      ],
      "text/plain": [
       "      customer_id  delivery_id\n",
       "2850       369272           23\n",
       "247         52832           17\n",
       "899         91817           15\n",
       "1386       125123           15\n",
       "2212       275689           14"
      ]
     },
     "execution_count": 100,
     "metadata": {},
     "output_type": "execute_result"
    }
   ],
   "source": [
    "#orders per buyer\n",
    "opb = master.groupby('customer_id')['delivery_id'].count().reset_index().sort_values(by='delivery_id', ascending=False)\n",
    "opb.head()"
   ]
  },
  {
   "cell_type": "markdown",
   "metadata": {},
   "source": [
    "There are power user of Jumpman! one customer ordered 23 times in a month. Let's look distribution of Order Frequency."
   ]
  },
  {
   "cell_type": "code",
   "execution_count": 101,
   "metadata": {},
   "outputs": [
    {
     "data": {
      "text/plain": [
       "1     2216\n",
       "2      512\n",
       "3      232\n",
       "4      106\n",
       "5       54\n",
       "6       29\n",
       "7       14\n",
       "8        7\n",
       "9        6\n",
       "10       5\n",
       "11       4\n",
       "12       2\n",
       "14       1\n",
       "15       2\n",
       "17       1\n",
       "23       1\n",
       "Name: delivery_id, dtype: int64"
      ]
     },
     "execution_count": 101,
     "metadata": {},
     "output_type": "execute_result"
    }
   ],
   "source": [
    "opb.delivery_id.value_counts().sort_index()"
   ]
  },
  {
   "cell_type": "code",
   "execution_count": 102,
   "metadata": {},
   "outputs": [
    {
     "data": {
      "text/plain": [
       "1     0.694236\n",
       "2     0.160401\n",
       "3     0.072682\n",
       "4     0.033208\n",
       "5     0.016917\n",
       "6     0.009085\n",
       "7     0.004386\n",
       "8     0.002193\n",
       "9     0.001880\n",
       "10    0.001566\n",
       "11    0.001253\n",
       "12    0.000627\n",
       "14    0.000313\n",
       "15    0.000627\n",
       "17    0.000313\n",
       "23    0.000313\n",
       "Name: delivery_id, dtype: float64"
      ]
     },
     "execution_count": 102,
     "metadata": {},
     "output_type": "execute_result"
    }
   ],
   "source": [
    "opb.delivery_id.value_counts(normalize=1).sort_index()"
   ]
  },
  {
   "cell_type": "code",
   "execution_count": 103,
   "metadata": {
    "scrolled": true
   },
   "outputs": [
    {
     "data": {
      "image/png": "[encoded data removed]",
      "text/plain": [
       "<Figure size 720x360 with 1 Axes>"
      ]
     },
     "metadata": {
      "needs_background": "light"
     },
     "output_type": "display_data"
    }
   ],
   "source": [
    "plt.figure(figsize=(10,5))\n",
    "sns.countplot(opb['delivery_id'])\n",
    "plt.title(\"Buyer Order Frequency Distribution\", fontsize = 14)\n",
    "plt.xlabel(\"Number of Orders by Customers\", fontsize =12)\n",
    "plt.ylabel(\"Number of Customers\", fontsize =12)\n",
    "plt.xticks(fontsize=10);"
   ]
  },
  {
   "cell_type": "markdown",
   "metadata": {},
   "source": [
    "About 70% of buyer drop off after 1 purchase. We can roll out win-back/reactivation strategy and promotions. Retention Strategy would play crucial role to increase the business. "
   ]
  },
  {
   "cell_type": "code",
   "execution_count": 104,
   "metadata": {},
   "outputs": [
    {
     "data": {
      "text/html": [
       "<div>\n",
       "<style scoped>\n",
       "    .dataframe tbody tr th:only-of-type {\n",
       "        vertical-align: middle;\n",
       "    }\n",
       "\n",
       "    .dataframe tbody tr th {\n",
       "        vertical-align: top;\n",
       "    }\n",
       "\n",
       "    .dataframe thead th {\n",
       "        text-align: right;\n",
       "    }\n",
       "</style>\n",
       "<table border=\"1\" class=\"dataframe\">\n",
       "  <thead>\n",
       "    <tr style=\"text-align: right;\">\n",
       "      <th></th>\n",
       "      <th>jumpman_id</th>\n",
       "      <th>delivery_id</th>\n",
       "    </tr>\n",
       "  </thead>\n",
       "  <tbody>\n",
       "    <tr>\n",
       "      <th>359</th>\n",
       "      <td>142394</td>\n",
       "      <td>67</td>\n",
       "    </tr>\n",
       "    <tr>\n",
       "      <th>182</th>\n",
       "      <td>99219</td>\n",
       "      <td>67</td>\n",
       "    </tr>\n",
       "    <tr>\n",
       "      <th>199</th>\n",
       "      <td>104533</td>\n",
       "      <td>67</td>\n",
       "    </tr>\n",
       "    <tr>\n",
       "      <th>33</th>\n",
       "      <td>30743</td>\n",
       "      <td>52</td>\n",
       "    </tr>\n",
       "    <tr>\n",
       "      <th>0</th>\n",
       "      <td>3296</td>\n",
       "      <td>50</td>\n",
       "    </tr>\n",
       "  </tbody>\n",
       "</table>\n",
       "</div>"
      ],
      "text/plain": [
       "     jumpman_id  delivery_id\n",
       "359      142394           67\n",
       "182       99219           67\n",
       "199      104533           67\n",
       "33        30743           52\n",
       "0          3296           50"
      ]
     },
     "execution_count": 104,
     "metadata": {},
     "output_type": "execute_result"
    }
   ],
   "source": [
    "#orders delivered by Jumpman\n",
    "odj = master.groupby('jumpman_id')['delivery_id'].count().reset_index().sort_values(by='delivery_id', ascending=False)\n",
    "odj.head()"
   ]
  },
  {
   "cell_type": "code",
   "execution_count": 105,
   "metadata": {},
   "outputs": [
    {
     "data": {
      "text/plain": [
       "1     106\n",
       "2      60\n",
       "3      50\n",
       "4      48\n",
       "5      28\n",
       "6      30\n",
       "7      23\n",
       "8      22\n",
       "9      20\n",
       "10     21\n",
       "Name: delivery_id, dtype: int64"
      ]
     },
     "execution_count": 105,
     "metadata": {},
     "output_type": "execute_result"
    }
   ],
   "source": [
    "odj.delivery_id.value_counts().sort_index().head(10)"
   ]
  },
  {
   "cell_type": "code",
   "execution_count": 106,
   "metadata": {
    "scrolled": false
   },
   "outputs": [
    {
     "data": {
      "text/plain": [
       "1     0.183391\n",
       "2     0.103806\n",
       "3     0.086505\n",
       "4     0.083045\n",
       "5     0.048443\n",
       "6     0.051903\n",
       "7     0.039792\n",
       "8     0.038062\n",
       "9     0.034602\n",
       "10    0.036332\n",
       "Name: delivery_id, dtype: float64"
      ]
     },
     "execution_count": 106,
     "metadata": {},
     "output_type": "execute_result"
    }
   ],
   "source": [
    "odj.delivery_id.value_counts(normalize=1).sort_index().head(10)"
   ]
  },
  {
   "cell_type": "code",
   "execution_count": 107,
   "metadata": {
    "scrolled": true
   },
   "outputs": [
    {
     "data": {
      "image/png": "[encoded data removed]",
      "text/plain": [
       "<Figure size 864x360 with 1 Axes>"
      ]
     },
     "metadata": {
      "needs_background": "light"
     },
     "output_type": "display_data"
    }
   ],
   "source": [
    "plt.figure(figsize=(12,5))\n",
    "sns.countplot(odj['delivery_id'])\n",
    "plt.title(\"Jumpman Delivery Frequency Distribution\", fontsize = 14)\n",
    "plt.xlabel(\"Number of Delivery by Jumpman\", fontsize =12)\n",
    "plt.ylabel(\"Number ofJumpman\", fontsize =12)\n",
    "plt.xticks(rotation=45,fontsize=8);"
   ]
  },
  {
   "cell_type": "markdown",
   "metadata": {},
   "source": [
    "Supply side is strong. We need to activate more frequent Jumpman. Maintaining payment structure to retain them would be crucial to handle higher demand"
   ]
  },
  {
   "cell_type": "markdown",
   "metadata": {},
   "source": [
    "#### Let's observe market demand"
   ]
  },
  {
   "cell_type": "code",
   "execution_count": 108,
   "metadata": {
    "scrolled": true
   },
   "outputs": [
    {
     "data": {
      "text/plain": [
       "0    0.116417\n",
       "1    0.122555\n",
       "2    0.149022\n",
       "3    0.152858\n",
       "4    0.134829\n",
       "5    0.141542\n",
       "6    0.182777\n",
       "Name: dow, dtype: float64"
      ]
     },
     "execution_count": 108,
     "metadata": {},
     "output_type": "execute_result"
    }
   ],
   "source": [
    "demand_dow = master['dow'].value_counts(normalize=1).sort_index()\n",
    "demand_dow \n",
    "\n",
    "# 0 = Monday"
   ]
  },
  {
   "cell_type": "code",
   "execution_count": 109,
   "metadata": {
    "scrolled": true
   },
   "outputs": [
    {
     "data": {
      "image/png": "[encoded data removed]",
      "text/plain": [
       "<Figure size 864x360 with 1 Axes>"
      ]
     },
     "metadata": {
      "needs_background": "light"
     },
     "output_type": "display_data"
    }
   ],
   "source": [
    "plt.figure(figsize=(12,5))\n",
    "sns.countplot(master['dow'])\n",
    "plt.title(\"Demand by Day of Week\", fontsize = 14)\n",
    "plt.xlabel(\"Day of Week\", fontsize =12)\n",
    "plt.ylabel(\"Total Demand\", fontsize =12)\n",
    "plt.xticks(fontsize=12);"
   ]
  },
  {
   "cell_type": "markdown",
   "metadata": {},
   "source": [
    "We have the highest demand on Sunday. We can also see slightly higher demand on Wednesday and Thursday.Let's observe demand by hour"
   ]
  },
  {
   "cell_type": "code",
   "execution_count": 110,
   "metadata": {},
   "outputs": [
    {
     "data": {
      "text/plain": [
       "0     0.019563\n",
       "1     0.008822\n",
       "2     0.005178\n",
       "3     0.003452\n",
       "4     0.000575\n",
       "5     0.000575\n",
       "6     0.000384\n",
       "7     0.001534\n",
       "8     0.003260\n",
       "9     0.007480\n",
       "10    0.018028\n",
       "11    0.035481\n",
       "12    0.060414\n",
       "13    0.065017\n",
       "14    0.053510\n",
       "15    0.046797\n",
       "16    0.043345\n",
       "17    0.051784\n",
       "18    0.081895\n",
       "19    0.128500\n",
       "20    0.149405\n",
       "21    0.117568\n",
       "22    0.064634\n",
       "23    0.032796\n",
       "Name: hour, dtype: float64"
      ]
     },
     "execution_count": 110,
     "metadata": {},
     "output_type": "execute_result"
    }
   ],
   "source": [
    "demand_hour = master['hour'].value_counts(normalize=1).sort_index()\n",
    "demand_hour"
   ]
  },
  {
   "cell_type": "code",
   "execution_count": 111,
   "metadata": {
    "scrolled": false
   },
   "outputs": [
    {
     "data": {
      "image/png": "[encoded data removed]",
      "text/plain": [
       "<Figure size 864x432 with 1 Axes>"
      ]
     },
     "metadata": {
      "needs_background": "light"
     },
     "output_type": "display_data"
    }
   ],
   "source": [
    "plt.figure(figsize=(12,6))\n",
    "sns.countplot(master['hour'])\n",
    "plt.title(\"Demand by Day of Week\", fontsize = 14)\n",
    "plt.xlabel(\"Day of Week\", fontsize =12)\n",
    "plt.ylabel(\"Total Demand\", fontsize =12)\n",
    "plt.xticks(fontsize=12);"
   ]
  },
  {
   "cell_type": "code",
   "execution_count": 112,
   "metadata": {
    "scrolled": false
   },
   "outputs": [
    {
     "data": {
      "image/png": "[encoded data removed]",
      "text/plain": [
       "<Figure size 864x432 with 2 Axes>"
      ]
     },
     "metadata": {
      "needs_background": "light"
     },
     "output_type": "display_data"
    }
   ],
   "source": [
    "pt = master.pivot_table(index='dow', columns='hour', values=\"delivery_id\", aggfunc=\"count\").fillna(0).sort_index().reset_index()\n",
    "\n",
    "plt.figure(figsize=(12,6))\n",
    "sns.heatmap(pt, cmap=\"YlGnBu\", linewidths=.3)\n",
    "plt.title(\"Demand by Weekday & Hour\", fontsize = 14)\n",
    "plt.xlabel(\"Hour\", fontsize =12)\n",
    "plt.ylabel(\"Day of Week\", fontsize =12)\n",
    "plt.xticks(fontsize=10);"
   ]
  },
  {
   "cell_type": "markdown",
   "metadata": {},
   "source": [
    "Overall, peak hour for each weekday is between 6PM to 10PM. We need to make sure to have enough Jumpman with experience to handle these hours. We also can see opportunity grow for lunch hours. "
   ]
  },
  {
   "cell_type": "markdown",
   "metadata": {},
   "source": [
    "#### Now, let's briefly analyze customer experience"
   ]
  },
  {
   "cell_type": "code",
   "execution_count": 113,
   "metadata": {
    "scrolled": false
   },
   "outputs": [
    {
     "data": {
      "text/html": [
       "<div>\n",
       "<style scoped>\n",
       "    .dataframe tbody tr th:only-of-type {\n",
       "        vertical-align: middle;\n",
       "    }\n",
       "\n",
       "    .dataframe tbody tr th {\n",
       "        vertical-align: top;\n",
       "    }\n",
       "\n",
       "    .dataframe thead th {\n",
       "        text-align: right;\n",
       "    }\n",
       "</style>\n",
       "<table border=\"1\" class=\"dataframe\">\n",
       "  <thead>\n",
       "    <tr style=\"text-align: right;\">\n",
       "      <th></th>\n",
       "      <th>total_time_min</th>\n",
       "      <th>to_pick_up_min</th>\n",
       "      <th>pick_up_time_min</th>\n",
       "      <th>delivery_time_min</th>\n",
       "    </tr>\n",
       "  </thead>\n",
       "  <tbody>\n",
       "    <tr>\n",
       "      <th>count</th>\n",
       "      <td>5214.000000</td>\n",
       "      <td>4719.000000</td>\n",
       "      <td>4719.000000</td>\n",
       "      <td>4719.000000</td>\n",
       "    </tr>\n",
       "    <tr>\n",
       "      <th>mean</th>\n",
       "      <td>45.216308</td>\n",
       "      <td>12.588740</td>\n",
       "      <td>18.294248</td>\n",
       "      <td>14.041480</td>\n",
       "    </tr>\n",
       "    <tr>\n",
       "      <th>std</th>\n",
       "      <td>19.687987</td>\n",
       "      <td>12.231923</td>\n",
       "      <td>11.715884</td>\n",
       "      <td>9.314023</td>\n",
       "    </tr>\n",
       "    <tr>\n",
       "      <th>min</th>\n",
       "      <td>3.047181</td>\n",
       "      <td>-2.651465</td>\n",
       "      <td>0.001877</td>\n",
       "      <td>0.839419</td>\n",
       "    </tr>\n",
       "    <tr>\n",
       "      <th>25%</th>\n",
       "      <td>32.122191</td>\n",
       "      <td>3.509269</td>\n",
       "      <td>10.369364</td>\n",
       "      <td>7.938390</td>\n",
       "    </tr>\n",
       "    <tr>\n",
       "      <th>50%</th>\n",
       "      <td>42.020648</td>\n",
       "      <td>9.876013</td>\n",
       "      <td>15.333771</td>\n",
       "      <td>11.658124</td>\n",
       "    </tr>\n",
       "    <tr>\n",
       "      <th>75%</th>\n",
       "      <td>54.240649</td>\n",
       "      <td>18.749896</td>\n",
       "      <td>22.977090</td>\n",
       "      <td>17.304775</td>\n",
       "    </tr>\n",
       "    <tr>\n",
       "      <th>max</th>\n",
       "      <td>340.308810</td>\n",
       "      <td>142.090125</td>\n",
       "      <td>267.954044</td>\n",
       "      <td>119.190060</td>\n",
       "    </tr>\n",
       "  </tbody>\n",
       "</table>\n",
       "</div>"
      ],
      "text/plain": [
       "       total_time_min  to_pick_up_min  pick_up_time_min  delivery_time_min\n",
       "count     5214.000000     4719.000000       4719.000000        4719.000000\n",
       "mean        45.216308       12.588740         18.294248          14.041480\n",
       "std         19.687987       12.231923         11.715884           9.314023\n",
       "min          3.047181       -2.651465          0.001877           0.839419\n",
       "25%         32.122191        3.509269         10.369364           7.938390\n",
       "50%         42.020648        9.876013         15.333771          11.658124\n",
       "75%         54.240649       18.749896         22.977090          17.304775\n",
       "max        340.308810      142.090125        267.954044         119.190060"
      ]
     },
     "execution_count": 113,
     "metadata": {},
     "output_type": "execute_result"
    }
   ],
   "source": [
    "# total duration for delivery\n",
    "master['total_time_min'] = master.when_the_Jumpman_arrived_at_dropoff - master.when_the_delivery_started\n",
    "master['total_time_min'] = master['total_time_min']/np.timedelta64(1,'m')\n",
    "\n",
    "#delivery start to pick up\n",
    "master['to_pick_up_min'] = master.when_the_Jumpman_arrived_at_pickup - master.when_the_delivery_started\n",
    "master['to_pick_up_min'] = master['to_pick_up_min']/np.timedelta64(1,'m')\n",
    "\n",
    "# pick up wait time \n",
    "master['pick_up_time_min'] = master.when_the_Jumpman_left_pickup -  master.when_the_Jumpman_arrived_at_pickup\n",
    "master['pick_up_time_min'] = master['pick_up_time_min']/np.timedelta64(1,'m')\n",
    "\n",
    "# travel duration from pick up to drop off location\n",
    "master['delivery_time_min'] = master.when_the_Jumpman_arrived_at_dropoff - master.when_the_Jumpman_left_pickup\n",
    "master['delivery_time_min'] = master['delivery_time_min']/np.timedelta64(1,'m')\n",
    "\n",
    "master[['total_time_min', 'to_pick_up_min', 'pick_up_time_min', 'delivery_time_min']].describe()"
   ]
  },
  {
   "cell_type": "markdown",
   "metadata": {},
   "source": [
    "#### Data Integrity Issue # 3\n",
    "\n",
    "Negative value under to_pick_up_min means timestamp was logged as arrived at pickup location before even delivery started. Maybe Jumpman was already at the location before an order came in to pick up, but this should be escalated.\n",
    "\n",
    "Additionally, outliers seem to be wrong. Or, maybe there were some issues with orders. \n",
    "\n",
    "#### Note : If we ignore above errors, we are completing the whole process within 45 min average."
   ]
  },
  {
   "cell_type": "code",
   "execution_count": 114,
   "metadata": {},
   "outputs": [
    {
     "data": {
      "text/html": [
       "<div>\n",
       "<style scoped>\n",
       "    .dataframe tbody tr th:only-of-type {\n",
       "        vertical-align: middle;\n",
       "    }\n",
       "\n",
       "    .dataframe tbody tr th {\n",
       "        vertical-align: top;\n",
       "    }\n",
       "\n",
       "    .dataframe thead th {\n",
       "        text-align: right;\n",
       "    }\n",
       "</style>\n",
       "<table border=\"1\" class=\"dataframe\">\n",
       "  <thead>\n",
       "    <tr style=\"text-align: right;\">\n",
       "      <th></th>\n",
       "      <th>place_category</th>\n",
       "      <th>count</th>\n",
       "    </tr>\n",
       "  </thead>\n",
       "  <tbody>\n",
       "    <tr>\n",
       "      <th>0</th>\n",
       "      <td>Italian</td>\n",
       "      <td>437</td>\n",
       "    </tr>\n",
       "    <tr>\n",
       "      <th>1</th>\n",
       "      <td>Burger</td>\n",
       "      <td>395</td>\n",
       "    </tr>\n",
       "    <tr>\n",
       "      <th>2</th>\n",
       "      <td>American</td>\n",
       "      <td>357</td>\n",
       "    </tr>\n",
       "    <tr>\n",
       "      <th>3</th>\n",
       "      <td>Japanese</td>\n",
       "      <td>335</td>\n",
       "    </tr>\n",
       "    <tr>\n",
       "      <th>4</th>\n",
       "      <td>Dessert</td>\n",
       "      <td>277</td>\n",
       "    </tr>\n",
       "    <tr>\n",
       "      <th>5</th>\n",
       "      <td>Chinese</td>\n",
       "      <td>265</td>\n",
       "    </tr>\n",
       "    <tr>\n",
       "      <th>6</th>\n",
       "      <td>Sushi</td>\n",
       "      <td>203</td>\n",
       "    </tr>\n",
       "    <tr>\n",
       "      <th>7</th>\n",
       "      <td>Salad</td>\n",
       "      <td>192</td>\n",
       "    </tr>\n",
       "    <tr>\n",
       "      <th>8</th>\n",
       "      <td>Mexican</td>\n",
       "      <td>165</td>\n",
       "    </tr>\n",
       "    <tr>\n",
       "      <th>9</th>\n",
       "      <td>Grocery Store</td>\n",
       "      <td>130</td>\n",
       "    </tr>\n",
       "    <tr>\n",
       "      <th>10</th>\n",
       "      <td>Bakery</td>\n",
       "      <td>126</td>\n",
       "    </tr>\n",
       "    <tr>\n",
       "      <th>11</th>\n",
       "      <td>BBQ</td>\n",
       "      <td>114</td>\n",
       "    </tr>\n",
       "    <tr>\n",
       "      <th>12</th>\n",
       "      <td>Pizza</td>\n",
       "      <td>94</td>\n",
       "    </tr>\n",
       "    <tr>\n",
       "      <th>13</th>\n",
       "      <td>Juice Bar</td>\n",
       "      <td>91</td>\n",
       "    </tr>\n",
       "    <tr>\n",
       "      <th>14</th>\n",
       "      <td>Fast Food</td>\n",
       "      <td>80</td>\n",
       "    </tr>\n",
       "    <tr>\n",
       "      <th>15</th>\n",
       "      <td>Indian</td>\n",
       "      <td>80</td>\n",
       "    </tr>\n",
       "    <tr>\n",
       "      <th>16</th>\n",
       "      <td>Donut</td>\n",
       "      <td>71</td>\n",
       "    </tr>\n",
       "    <tr>\n",
       "      <th>17</th>\n",
       "      <td>Seafood</td>\n",
       "      <td>69</td>\n",
       "    </tr>\n",
       "    <tr>\n",
       "      <th>18</th>\n",
       "      <td>Drug Store</td>\n",
       "      <td>68</td>\n",
       "    </tr>\n",
       "    <tr>\n",
       "      <th>19</th>\n",
       "      <td>Mediterranean</td>\n",
       "      <td>61</td>\n",
       "    </tr>\n",
       "  </tbody>\n",
       "</table>\n",
       "</div>"
      ],
      "text/plain": [
       "   place_category  count\n",
       "0         Italian    437\n",
       "1          Burger    395\n",
       "2        American    357\n",
       "3        Japanese    335\n",
       "4         Dessert    277\n",
       "5         Chinese    265\n",
       "6           Sushi    203\n",
       "7           Salad    192\n",
       "8         Mexican    165\n",
       "9   Grocery Store    130\n",
       "10         Bakery    126\n",
       "11            BBQ    114\n",
       "12          Pizza     94\n",
       "13      Juice Bar     91\n",
       "14      Fast Food     80\n",
       "15         Indian     80\n",
       "16          Donut     71\n",
       "17        Seafood     69\n",
       "18     Drug Store     68\n",
       "19  Mediterranean     61"
      ]
     },
     "execution_count": 114,
     "metadata": {},
     "output_type": "execute_result"
    }
   ],
   "source": [
    "popular_cat = master['place_category'].value_counts().reset_index()#.sort_values(ascending=False)\n",
    "popular_cat.columns = ['place_category', 'count']\n",
    "popular_cat.head(20)"
   ]
  },
  {
   "cell_type": "code",
   "execution_count": 115,
   "metadata": {},
   "outputs": [
    {
     "data": {
      "image/png": "[encoded data removed]",
      "text/plain": [
       "<Figure size 864x432 with 1 Axes>"
      ]
     },
     "metadata": {
      "needs_background": "light"
     },
     "output_type": "display_data"
    }
   ],
   "source": [
    "top_cat = master['place_category'].value_counts().head(20)\n",
    "\n",
    "plt.figure(figsize=(12,6))\n",
    "sns.barplot(top_cat.index, top_cat.values, alpha=0.5, color=color[5])\n",
    "plt.title(\"Popular Category\", fontsize = 14)\n",
    "plt.xlabel(\"Category\", fontsize =12)\n",
    "plt.ylabel(\"Total Orders\", fontsize =12)\n",
    "plt.xticks(rotation='vertical', fontsize=10);"
   ]
  },
  {
   "cell_type": "code",
   "execution_count": 116,
   "metadata": {},
   "outputs": [
    {
     "data": {
      "text/html": [
       "<div>\n",
       "<style scoped>\n",
       "    .dataframe tbody tr th:only-of-type {\n",
       "        vertical-align: middle;\n",
       "    }\n",
       "\n",
       "    .dataframe tbody tr th {\n",
       "        vertical-align: top;\n",
       "    }\n",
       "\n",
       "    .dataframe thead th {\n",
       "        text-align: right;\n",
       "    }\n",
       "</style>\n",
       "<table border=\"1\" class=\"dataframe\">\n",
       "  <thead>\n",
       "    <tr style=\"text-align: right;\">\n",
       "      <th></th>\n",
       "      <th>pickup_place</th>\n",
       "      <th>count</th>\n",
       "    </tr>\n",
       "  </thead>\n",
       "  <tbody>\n",
       "    <tr>\n",
       "      <th>0</th>\n",
       "      <td>Shake Shack</td>\n",
       "      <td>266</td>\n",
       "    </tr>\n",
       "    <tr>\n",
       "      <th>1</th>\n",
       "      <td>Momofuku Milk Bar</td>\n",
       "      <td>162</td>\n",
       "    </tr>\n",
       "    <tr>\n",
       "      <th>2</th>\n",
       "      <td>The Meatball Shop</td>\n",
       "      <td>153</td>\n",
       "    </tr>\n",
       "    <tr>\n",
       "      <th>3</th>\n",
       "      <td>sweetgreen</td>\n",
       "      <td>138</td>\n",
       "    </tr>\n",
       "    <tr>\n",
       "      <th>4</th>\n",
       "      <td>Blue Ribbon Fried Chicken</td>\n",
       "      <td>115</td>\n",
       "    </tr>\n",
       "    <tr>\n",
       "      <th>5</th>\n",
       "      <td>Blue Ribbon Sushi</td>\n",
       "      <td>111</td>\n",
       "    </tr>\n",
       "    <tr>\n",
       "      <th>6</th>\n",
       "      <td>Parm</td>\n",
       "      <td>89</td>\n",
       "    </tr>\n",
       "    <tr>\n",
       "      <th>7</th>\n",
       "      <td>Whole Foods Market</td>\n",
       "      <td>85</td>\n",
       "    </tr>\n",
       "    <tr>\n",
       "      <th>8</th>\n",
       "      <td>Chipotle Mexican Grill $1.99 Delivery</td>\n",
       "      <td>79</td>\n",
       "    </tr>\n",
       "    <tr>\n",
       "      <th>9</th>\n",
       "      <td>Mighty Quinn's BBQ</td>\n",
       "      <td>76</td>\n",
       "    </tr>\n",
       "    <tr>\n",
       "      <th>10</th>\n",
       "      <td>RedFarm Broadway</td>\n",
       "      <td>70</td>\n",
       "    </tr>\n",
       "    <tr>\n",
       "      <th>11</th>\n",
       "      <td>Momofuku Noodle Bar</td>\n",
       "      <td>69</td>\n",
       "    </tr>\n",
       "    <tr>\n",
       "      <th>12</th>\n",
       "      <td>Duane Reade</td>\n",
       "      <td>64</td>\n",
       "    </tr>\n",
       "    <tr>\n",
       "      <th>13</th>\n",
       "      <td>McDonald's</td>\n",
       "      <td>59</td>\n",
       "    </tr>\n",
       "    <tr>\n",
       "      <th>14</th>\n",
       "      <td>TAO</td>\n",
       "      <td>54</td>\n",
       "    </tr>\n",
       "    <tr>\n",
       "      <th>15</th>\n",
       "      <td>Hu Kitchen</td>\n",
       "      <td>53</td>\n",
       "    </tr>\n",
       "    <tr>\n",
       "      <th>16</th>\n",
       "      <td>Han Dynasty</td>\n",
       "      <td>52</td>\n",
       "    </tr>\n",
       "    <tr>\n",
       "      <th>17</th>\n",
       "      <td>Sushi of Gari 46</td>\n",
       "      <td>51</td>\n",
       "    </tr>\n",
       "    <tr>\n",
       "      <th>18</th>\n",
       "      <td>Doughnut Plant Chelsea</td>\n",
       "      <td>50</td>\n",
       "    </tr>\n",
       "    <tr>\n",
       "      <th>19</th>\n",
       "      <td>RedFarm Hudson</td>\n",
       "      <td>50</td>\n",
       "    </tr>\n",
       "  </tbody>\n",
       "</table>\n",
       "</div>"
      ],
      "text/plain": [
       "                             pickup_place  count\n",
       "0                             Shake Shack    266\n",
       "1                       Momofuku Milk Bar    162\n",
       "2                       The Meatball Shop    153\n",
       "3                              sweetgreen    138\n",
       "4               Blue Ribbon Fried Chicken    115\n",
       "5                       Blue Ribbon Sushi    111\n",
       "6                                    Parm     89\n",
       "7                      Whole Foods Market     85\n",
       "8   Chipotle Mexican Grill $1.99 Delivery     79\n",
       "9                      Mighty Quinn's BBQ     76\n",
       "10                       RedFarm Broadway     70\n",
       "11                    Momofuku Noodle Bar     69\n",
       "12                            Duane Reade     64\n",
       "13                             McDonald's     59\n",
       "14                                    TAO     54\n",
       "15                             Hu Kitchen     53\n",
       "16                            Han Dynasty     52\n",
       "17                       Sushi of Gari 46     51\n",
       "18                 Doughnut Plant Chelsea     50\n",
       "19                         RedFarm Hudson     50"
      ]
     },
     "execution_count": 116,
     "metadata": {},
     "output_type": "execute_result"
    }
   ],
   "source": [
    "pop_place = master['pickup_place'].value_counts().reset_index()#.sort_values(ascending=False)\n",
    "pop_place.columns = ['pickup_place', 'count']\n",
    "pop_place.head(20)"
   ]
  },
  {
   "cell_type": "code",
   "execution_count": 117,
   "metadata": {},
   "outputs": [
    {
     "data": {
      "image/png": "[encoded data removed]",
      "text/plain": [
       "<Figure size 864x432 with 1 Axes>"
      ]
     },
     "metadata": {
      "needs_background": "light"
     },
     "output_type": "display_data"
    }
   ],
   "source": [
    "pop_place = master['pickup_place'].value_counts().head(20)\n",
    "\n",
    "plt.figure(figsize=(12,6))\n",
    "sns.barplot(pop_place.index, pop_place.values, alpha=0.5, color=color[5])\n",
    "plt.title(\"Popular Place\", fontsize = 14)\n",
    "plt.xlabel(\"Category\", fontsize =12)\n",
    "plt.ylabel(\"Total Orders\", fontsize =12)\n",
    "plt.xticks(rotation='vertical', fontsize=10);"
   ]
  },
  {
   "cell_type": "markdown",
   "metadata": {},
   "source": [
    "#### Let's calculate distance between pickup location and dropoff location"
   ]
  },
  {
   "cell_type": "code",
   "execution_count": 118,
   "metadata": {},
   "outputs": [],
   "source": [
    "from geopy.distance import vincenty\n",
    "\n",
    "def distance_calc (row):\n",
    "    start = (row['pickup_lat'], row['pickup_lon'])\n",
    "    stop = (row['dropoff_lat'], row['dropoff_lon'])\n",
    "\n",
    "    return vincenty(start, stop).meters"
   ]
  },
  {
   "cell_type": "code",
   "execution_count": 119,
   "metadata": {
    "scrolled": true
   },
   "outputs": [
    {
     "name": "stderr",
     "output_type": "stream",
     "text": [
      "/home/artekki/anaconda3/envs/artekki_env/lib/python3.7/site-packages/ipykernel_launcher.py:7: DeprecationWarning: Vincenty is deprecated and is going to be removed in geopy 2.0. Use `geopy.distance.geodesic` (or the default `geopy.distance.distance`) instead, which is more accurate and always converges.\n",
      "  import sys\n"
     ]
    },
    {
     "data": {
      "text/html": [
       "<div>\n",
       "<style scoped>\n",
       "    .dataframe tbody tr th:only-of-type {\n",
       "        vertical-align: middle;\n",
       "    }\n",
       "\n",
       "    .dataframe tbody tr th {\n",
       "        vertical-align: top;\n",
       "    }\n",
       "\n",
       "    .dataframe thead th {\n",
       "        text-align: right;\n",
       "    }\n",
       "</style>\n",
       "<table border=\"1\" class=\"dataframe\">\n",
       "  <thead>\n",
       "    <tr style=\"text-align: right;\">\n",
       "      <th></th>\n",
       "      <th>delivery_id</th>\n",
       "      <th>customer_id</th>\n",
       "      <th>jumpman_id</th>\n",
       "      <th>vehicle_type</th>\n",
       "      <th>pickup_place</th>\n",
       "      <th>place_category</th>\n",
       "      <th>how_long_it_took_to_order</th>\n",
       "      <th>pickup_lat</th>\n",
       "      <th>pickup_lon</th>\n",
       "      <th>dropoff_lat</th>\n",
       "      <th>...</th>\n",
       "      <th>item_quantity_sum</th>\n",
       "      <th>year</th>\n",
       "      <th>wom</th>\n",
       "      <th>dow</th>\n",
       "      <th>hour</th>\n",
       "      <th>total_time_min</th>\n",
       "      <th>to_pick_up_min</th>\n",
       "      <th>pick_up_time_min</th>\n",
       "      <th>delivery_time_min</th>\n",
       "      <th>distance</th>\n",
       "    </tr>\n",
       "  </thead>\n",
       "  <tbody>\n",
       "    <tr>\n",
       "      <th>1</th>\n",
       "      <td>1457973</td>\n",
       "      <td>327168</td>\n",
       "      <td>162381</td>\n",
       "      <td>van</td>\n",
       "      <td>Melt Shop</td>\n",
       "      <td>American</td>\n",
       "      <td>00:19:58.582052</td>\n",
       "      <td>40.744607</td>\n",
       "      <td>-73.990742</td>\n",
       "      <td>40.752073</td>\n",
       "      <td>...</td>\n",
       "      <td>2.0</td>\n",
       "      <td>2014</td>\n",
       "      <td>4</td>\n",
       "      <td>6</td>\n",
       "      <td>14</td>\n",
       "      <td>60.106903</td>\n",
       "      <td>NaN</td>\n",
       "      <td>NaN</td>\n",
       "      <td>NaN</td>\n",
       "      <td>945.069831</td>\n",
       "    </tr>\n",
       "    <tr>\n",
       "      <th>2</th>\n",
       "      <td>1377056</td>\n",
       "      <td>64452</td>\n",
       "      <td>104533</td>\n",
       "      <td>bicycle</td>\n",
       "      <td>Prince Street Pizza</td>\n",
       "      <td>Pizza</td>\n",
       "      <td>00:25:09.107093</td>\n",
       "      <td>40.723080</td>\n",
       "      <td>-73.994615</td>\n",
       "      <td>40.719722</td>\n",
       "      <td>...</td>\n",
       "      <td>3.0</td>\n",
       "      <td>2014</td>\n",
       "      <td>3</td>\n",
       "      <td>3</td>\n",
       "      <td>22</td>\n",
       "      <td>60.404899</td>\n",
       "      <td>27.057767</td>\n",
       "      <td>22.349505</td>\n",
       "      <td>10.997627</td>\n",
       "      <td>439.633124</td>\n",
       "    </tr>\n",
       "    <tr>\n",
       "      <th>3</th>\n",
       "      <td>1476547</td>\n",
       "      <td>83095</td>\n",
       "      <td>132725</td>\n",
       "      <td>bicycle</td>\n",
       "      <td>Bareburger</td>\n",
       "      <td>Burger</td>\n",
       "      <td>00:06:44.541717</td>\n",
       "      <td>40.728478</td>\n",
       "      <td>-73.998392</td>\n",
       "      <td>40.728606</td>\n",
       "      <td>...</td>\n",
       "      <td>1.0</td>\n",
       "      <td>2014</td>\n",
       "      <td>4</td>\n",
       "      <td>1</td>\n",
       "      <td>22</td>\n",
       "      <td>24.799676</td>\n",
       "      <td>-2.564350</td>\n",
       "      <td>21.853190</td>\n",
       "      <td>5.510836</td>\n",
       "      <td>274.826231</td>\n",
       "    </tr>\n",
       "    <tr>\n",
       "      <th>4</th>\n",
       "      <td>1485494</td>\n",
       "      <td>271149</td>\n",
       "      <td>157175</td>\n",
       "      <td>bicycle</td>\n",
       "      <td>Juice Press</td>\n",
       "      <td>Juice Bar</td>\n",
       "      <td>NaN</td>\n",
       "      <td>40.738868</td>\n",
       "      <td>-74.002747</td>\n",
       "      <td>40.751257</td>\n",
       "      <td>...</td>\n",
       "      <td>1.0</td>\n",
       "      <td>2014</td>\n",
       "      <td>5</td>\n",
       "      <td>3</td>\n",
       "      <td>11</td>\n",
       "      <td>38.442636</td>\n",
       "      <td>10.103795</td>\n",
       "      <td>12.335604</td>\n",
       "      <td>16.003237</td>\n",
       "      <td>1397.296024</td>\n",
       "    </tr>\n",
       "    <tr>\n",
       "      <th>5</th>\n",
       "      <td>1327707</td>\n",
       "      <td>122609</td>\n",
       "      <td>118095</td>\n",
       "      <td>bicycle</td>\n",
       "      <td>Blue Ribbon Sushi</td>\n",
       "      <td>Japanese</td>\n",
       "      <td>00:03:45.035418</td>\n",
       "      <td>40.726110</td>\n",
       "      <td>-74.002492</td>\n",
       "      <td>40.709323</td>\n",
       "      <td>...</td>\n",
       "      <td>2.0</td>\n",
       "      <td>2014</td>\n",
       "      <td>2</td>\n",
       "      <td>4</td>\n",
       "      <td>0</td>\n",
       "      <td>41.145001</td>\n",
       "      <td>7.404195</td>\n",
       "      <td>10.611635</td>\n",
       "      <td>23.129172</td>\n",
       "      <td>2179.897414</td>\n",
       "    </tr>\n",
       "  </tbody>\n",
       "</table>\n",
       "<p>5 rows × 26 columns</p>\n",
       "</div>"
      ],
      "text/plain": [
       "   delivery_id  customer_id  jumpman_id vehicle_type         pickup_place  \\\n",
       "1      1457973       327168      162381          van            Melt Shop   \n",
       "2      1377056        64452      104533      bicycle  Prince Street Pizza   \n",
       "3      1476547        83095      132725      bicycle           Bareburger   \n",
       "4      1485494       271149      157175      bicycle          Juice Press   \n",
       "5      1327707       122609      118095      bicycle    Blue Ribbon Sushi   \n",
       "\n",
       "  place_category how_long_it_took_to_order  pickup_lat  pickup_lon  \\\n",
       "1       American           00:19:58.582052   40.744607  -73.990742   \n",
       "2          Pizza           00:25:09.107093   40.723080  -73.994615   \n",
       "3         Burger           00:06:44.541717   40.728478  -73.998392   \n",
       "4      Juice Bar                       NaN   40.738868  -74.002747   \n",
       "5       Japanese           00:03:45.035418   40.726110  -74.002492   \n",
       "\n",
       "   dropoff_lat  ...  item_quantity_sum  year wom dow hour  total_time_min  \\\n",
       "1    40.752073  ...                2.0  2014   4   6   14       60.106903   \n",
       "2    40.719722  ...                3.0  2014   3   3   22       60.404899   \n",
       "3    40.728606  ...                1.0  2014   4   1   22       24.799676   \n",
       "4    40.751257  ...                1.0  2014   5   3   11       38.442636   \n",
       "5    40.709323  ...                2.0  2014   2   4    0       41.145001   \n",
       "\n",
       "   to_pick_up_min  pick_up_time_min  delivery_time_min     distance  \n",
       "1             NaN               NaN                NaN   945.069831  \n",
       "2       27.057767         22.349505          10.997627   439.633124  \n",
       "3       -2.564350         21.853190           5.510836   274.826231  \n",
       "4       10.103795         12.335604          16.003237  1397.296024  \n",
       "5        7.404195         10.611635          23.129172  2179.897414  \n",
       "\n",
       "[5 rows x 26 columns]"
      ]
     },
     "execution_count": 119,
     "metadata": {},
     "output_type": "execute_result"
    }
   ],
   "source": [
    "master['distance'] = master.apply(lambda row: distance_calc (row), axis=1)\n",
    "master.head()"
   ]
  },
  {
   "cell_type": "markdown",
   "metadata": {},
   "source": [
    "#### we now have all the fields we need to create a linear regression model to predict total_delivery time!"
   ]
  },
  {
   "cell_type": "code",
   "execution_count": 120,
   "metadata": {},
   "outputs": [
    {
     "data": {
      "text/plain": [
       "(4776, 26)"
      ]
     },
     "execution_count": 120,
     "metadata": {},
     "output_type": "execute_result"
    }
   ],
   "source": [
    "#dropping data with integrity issue with timestamp\n",
    "\n",
    "master.drop(master[master['when_the_Jumpman_arrived_at_pickup'] < master['when_the_delivery_started']].index, inplace=True)\n",
    "master.shape\n"
   ]
  },
  {
   "cell_type": "code",
   "execution_count": 121,
   "metadata": {},
   "outputs": [],
   "source": [
    "#Create X and y\n",
    "\n",
    "feature_cols = ['vehicle_type', 'distance', 'total_items', 'dow', 'hour']\n",
    "X = master[feature_cols]\n",
    "y = master.total_time_min"
   ]
  },
  {
   "cell_type": "code",
   "execution_count": 122,
   "metadata": {
    "scrolled": true
   },
   "outputs": [
    {
     "data": {
      "image/png": "[encoded data removed]",
      "text/plain": [
       "<Figure size 1152x216 with 5 Axes>"
      ]
     },
     "metadata": {
      "needs_background": "light"
     },
     "output_type": "display_data"
    }
   ],
   "source": [
    "fig, axs = plt.subplots(1, len(feature_cols), sharey=True)\n",
    "for index, feature in enumerate(feature_cols):\n",
    "    master.plot(kind='scatter', x=feature, y='total_time_min', ax=axs[index], figsize=(16, 3))"
   ]
  },
  {
   "cell_type": "code",
   "execution_count": 123,
   "metadata": {},
   "outputs": [
    {
     "data": {
      "text/plain": [
       "<matplotlib.axes._subplots.AxesSubplot at 0x7f05d71b7c50>"
      ]
     },
     "execution_count": 123,
     "metadata": {},
     "output_type": "execute_result"
    },
    {
     "data": {
      "image/png": "[encoded data removed]",
      "text/plain": [
       "<Figure size 1152x576 with 2 Axes>"
      ]
     },
     "metadata": {
      "needs_background": "light"
     },
     "output_type": "display_data"
    }
   ],
   "source": [
    "plt.figure(figsize=(16,8))\n",
    "sns.heatmap(master.corr())"
   ]
  },
  {
   "cell_type": "code",
   "execution_count": 124,
   "metadata": {},
   "outputs": [],
   "source": [
    "# Creating Dummy Variables for Vehicle type\n",
    "\n",
    "vehicle_dummies = pd.get_dummies(master.vehicle_type, prefix='vehicle_type')"
   ]
  },
  {
   "cell_type": "code",
   "execution_count": 125,
   "metadata": {},
   "outputs": [],
   "source": [
    "vehicle_dummies.drop(vehicle_dummies.columns[0], axis=1, inplace=True)"
   ]
  },
  {
   "cell_type": "code",
   "execution_count": 126,
   "metadata": {},
   "outputs": [
    {
     "data": {
      "text/html": [
       "<div>\n",
       "<style scoped>\n",
       "    .dataframe tbody tr th:only-of-type {\n",
       "        vertical-align: middle;\n",
       "    }\n",
       "\n",
       "    .dataframe tbody tr th {\n",
       "        vertical-align: top;\n",
       "    }\n",
       "\n",
       "    .dataframe thead th {\n",
       "        text-align: right;\n",
       "    }\n",
       "</style>\n",
       "<table border=\"1\" class=\"dataframe\">\n",
       "  <thead>\n",
       "    <tr style=\"text-align: right;\">\n",
       "      <th></th>\n",
       "      <th>delivery_id</th>\n",
       "      <th>customer_id</th>\n",
       "      <th>jumpman_id</th>\n",
       "      <th>vehicle_type</th>\n",
       "      <th>pickup_place</th>\n",
       "      <th>place_category</th>\n",
       "      <th>how_long_it_took_to_order</th>\n",
       "      <th>pickup_lat</th>\n",
       "      <th>pickup_lon</th>\n",
       "      <th>dropoff_lat</th>\n",
       "      <th>...</th>\n",
       "      <th>to_pick_up_min</th>\n",
       "      <th>pick_up_time_min</th>\n",
       "      <th>delivery_time_min</th>\n",
       "      <th>distance</th>\n",
       "      <th>vehicle_type_car</th>\n",
       "      <th>vehicle_type_motorcycle</th>\n",
       "      <th>vehicle_type_scooter</th>\n",
       "      <th>vehicle_type_truck</th>\n",
       "      <th>vehicle_type_van</th>\n",
       "      <th>vehicle_type_walker</th>\n",
       "    </tr>\n",
       "  </thead>\n",
       "  <tbody>\n",
       "    <tr>\n",
       "      <th>2669</th>\n",
       "      <td>1442583</td>\n",
       "      <td>339923</td>\n",
       "      <td>142394</td>\n",
       "      <td>bicycle</td>\n",
       "      <td>Katz's Delicatessen</td>\n",
       "      <td>NaN</td>\n",
       "      <td>NaN</td>\n",
       "      <td>40.722307</td>\n",
       "      <td>-73.987352</td>\n",
       "      <td>40.728421</td>\n",
       "      <td>...</td>\n",
       "      <td>8.058483</td>\n",
       "      <td>17.719217</td>\n",
       "      <td>6.009587</td>\n",
       "      <td>771.368988</td>\n",
       "      <td>0</td>\n",
       "      <td>0</td>\n",
       "      <td>0</td>\n",
       "      <td>0</td>\n",
       "      <td>0</td>\n",
       "      <td>0</td>\n",
       "    </tr>\n",
       "    <tr>\n",
       "      <th>3173</th>\n",
       "      <td>1302442</td>\n",
       "      <td>81110</td>\n",
       "      <td>40526</td>\n",
       "      <td>bicycle</td>\n",
       "      <td>Han Dynasty</td>\n",
       "      <td>Chinese</td>\n",
       "      <td>00:07:11.492769</td>\n",
       "      <td>40.732213</td>\n",
       "      <td>-73.988072</td>\n",
       "      <td>40.742733</td>\n",
       "      <td>...</td>\n",
       "      <td>4.206028</td>\n",
       "      <td>26.337747</td>\n",
       "      <td>10.654494</td>\n",
       "      <td>1322.130648</td>\n",
       "      <td>0</td>\n",
       "      <td>0</td>\n",
       "      <td>0</td>\n",
       "      <td>0</td>\n",
       "      <td>0</td>\n",
       "      <td>0</td>\n",
       "    </tr>\n",
       "    <tr>\n",
       "      <th>2310</th>\n",
       "      <td>1340235</td>\n",
       "      <td>128600</td>\n",
       "      <td>99219</td>\n",
       "      <td>bicycle</td>\n",
       "      <td>Blue Ribbon Fried Chicken</td>\n",
       "      <td>American</td>\n",
       "      <td>NaN</td>\n",
       "      <td>40.724340</td>\n",
       "      <td>-73.990960</td>\n",
       "      <td>40.716341</td>\n",
       "      <td>...</td>\n",
       "      <td>0.360924</td>\n",
       "      <td>14.787187</td>\n",
       "      <td>16.628209</td>\n",
       "      <td>2008.796943</td>\n",
       "      <td>0</td>\n",
       "      <td>0</td>\n",
       "      <td>0</td>\n",
       "      <td>0</td>\n",
       "      <td>0</td>\n",
       "      <td>0</td>\n",
       "    </tr>\n",
       "    <tr>\n",
       "      <th>477</th>\n",
       "      <td>1357295</td>\n",
       "      <td>103017</td>\n",
       "      <td>36664</td>\n",
       "      <td>bicycle</td>\n",
       "      <td>Food Emporium</td>\n",
       "      <td>NaN</td>\n",
       "      <td>NaN</td>\n",
       "      <td>40.764192</td>\n",
       "      <td>-73.964473</td>\n",
       "      <td>40.765817</td>\n",
       "      <td>...</td>\n",
       "      <td>8.501726</td>\n",
       "      <td>11.868530</td>\n",
       "      <td>4.732510</td>\n",
       "      <td>199.314704</td>\n",
       "      <td>0</td>\n",
       "      <td>0</td>\n",
       "      <td>0</td>\n",
       "      <td>0</td>\n",
       "      <td>0</td>\n",
       "      <td>0</td>\n",
       "    </tr>\n",
       "    <tr>\n",
       "      <th>3940</th>\n",
       "      <td>1397850</td>\n",
       "      <td>142449</td>\n",
       "      <td>162603</td>\n",
       "      <td>car</td>\n",
       "      <td>Habana To Go</td>\n",
       "      <td>NaN</td>\n",
       "      <td>00:07:31.489452</td>\n",
       "      <td>40.722912</td>\n",
       "      <td>-73.994089</td>\n",
       "      <td>40.733716</td>\n",
       "      <td>...</td>\n",
       "      <td>NaN</td>\n",
       "      <td>NaN</td>\n",
       "      <td>NaN</td>\n",
       "      <td>1358.327608</td>\n",
       "      <td>1</td>\n",
       "      <td>0</td>\n",
       "      <td>0</td>\n",
       "      <td>0</td>\n",
       "      <td>0</td>\n",
       "      <td>0</td>\n",
       "    </tr>\n",
       "    <tr>\n",
       "      <th>5979</th>\n",
       "      <td>1303444</td>\n",
       "      <td>228541</td>\n",
       "      <td>148268</td>\n",
       "      <td>bicycle</td>\n",
       "      <td>RedFarm Hudson</td>\n",
       "      <td>Chinese</td>\n",
       "      <td>00:03:32.094164</td>\n",
       "      <td>40.734214</td>\n",
       "      <td>-74.006202</td>\n",
       "      <td>40.732425</td>\n",
       "      <td>...</td>\n",
       "      <td>12.659345</td>\n",
       "      <td>23.842564</td>\n",
       "      <td>7.956391</td>\n",
       "      <td>862.284723</td>\n",
       "      <td>0</td>\n",
       "      <td>0</td>\n",
       "      <td>0</td>\n",
       "      <td>0</td>\n",
       "      <td>0</td>\n",
       "      <td>0</td>\n",
       "    </tr>\n",
       "    <tr>\n",
       "      <th>1393</th>\n",
       "      <td>1284844</td>\n",
       "      <td>170297</td>\n",
       "      <td>112646</td>\n",
       "      <td>bicycle</td>\n",
       "      <td>Breads Bakery</td>\n",
       "      <td>Bakery</td>\n",
       "      <td>NaN</td>\n",
       "      <td>40.736803</td>\n",
       "      <td>-73.991718</td>\n",
       "      <td>40.719145</td>\n",
       "      <td>...</td>\n",
       "      <td>34.964583</td>\n",
       "      <td>12.734738</td>\n",
       "      <td>17.351922</td>\n",
       "      <td>2445.503006</td>\n",
       "      <td>0</td>\n",
       "      <td>0</td>\n",
       "      <td>0</td>\n",
       "      <td>0</td>\n",
       "      <td>0</td>\n",
       "      <td>0</td>\n",
       "    </tr>\n",
       "    <tr>\n",
       "      <th>5579</th>\n",
       "      <td>1319539</td>\n",
       "      <td>131093</td>\n",
       "      <td>148268</td>\n",
       "      <td>bicycle</td>\n",
       "      <td>Hale &amp; Hearty</td>\n",
       "      <td>Salad</td>\n",
       "      <td>NaN</td>\n",
       "      <td>40.737828</td>\n",
       "      <td>-73.992362</td>\n",
       "      <td>40.744918</td>\n",
       "      <td>...</td>\n",
       "      <td>3.383045</td>\n",
       "      <td>17.695993</td>\n",
       "      <td>10.529578</td>\n",
       "      <td>1468.725058</td>\n",
       "      <td>0</td>\n",
       "      <td>0</td>\n",
       "      <td>0</td>\n",
       "      <td>0</td>\n",
       "      <td>0</td>\n",
       "      <td>0</td>\n",
       "    </tr>\n",
       "    <tr>\n",
       "      <th>4891</th>\n",
       "      <td>1462146</td>\n",
       "      <td>342664</td>\n",
       "      <td>127402</td>\n",
       "      <td>scooter</td>\n",
       "      <td>Risotteria</td>\n",
       "      <td>NaN</td>\n",
       "      <td>NaN</td>\n",
       "      <td>40.731484</td>\n",
       "      <td>-74.003149</td>\n",
       "      <td>40.726739</td>\n",
       "      <td>...</td>\n",
       "      <td>8.230582</td>\n",
       "      <td>22.828707</td>\n",
       "      <td>5.963223</td>\n",
       "      <td>951.012759</td>\n",
       "      <td>0</td>\n",
       "      <td>0</td>\n",
       "      <td>1</td>\n",
       "      <td>0</td>\n",
       "      <td>0</td>\n",
       "      <td>0</td>\n",
       "    </tr>\n",
       "    <tr>\n",
       "      <th>1664</th>\n",
       "      <td>1451748</td>\n",
       "      <td>74700</td>\n",
       "      <td>169956</td>\n",
       "      <td>car</td>\n",
       "      <td>RedFarm Hudson</td>\n",
       "      <td>Chinese</td>\n",
       "      <td>00:06:40.336457</td>\n",
       "      <td>40.734214</td>\n",
       "      <td>-74.006202</td>\n",
       "      <td>40.733003</td>\n",
       "      <td>...</td>\n",
       "      <td>15.106317</td>\n",
       "      <td>8.830542</td>\n",
       "      <td>13.208509</td>\n",
       "      <td>1348.006199</td>\n",
       "      <td>1</td>\n",
       "      <td>0</td>\n",
       "      <td>0</td>\n",
       "      <td>0</td>\n",
       "      <td>0</td>\n",
       "      <td>0</td>\n",
       "    </tr>\n",
       "  </tbody>\n",
       "</table>\n",
       "<p>10 rows × 32 columns</p>\n",
       "</div>"
      ],
      "text/plain": [
       "      delivery_id  customer_id  jumpman_id vehicle_type  \\\n",
       "2669      1442583       339923      142394      bicycle   \n",
       "3173      1302442        81110       40526      bicycle   \n",
       "2310      1340235       128600       99219      bicycle   \n",
       "477       1357295       103017       36664      bicycle   \n",
       "3940      1397850       142449      162603          car   \n",
       "5979      1303444       228541      148268      bicycle   \n",
       "1393      1284844       170297      112646      bicycle   \n",
       "5579      1319539       131093      148268      bicycle   \n",
       "4891      1462146       342664      127402      scooter   \n",
       "1664      1451748        74700      169956          car   \n",
       "\n",
       "                   pickup_place place_category how_long_it_took_to_order  \\\n",
       "2669        Katz's Delicatessen            NaN                       NaN   \n",
       "3173                Han Dynasty        Chinese           00:07:11.492769   \n",
       "2310  Blue Ribbon Fried Chicken       American                       NaN   \n",
       "477               Food Emporium            NaN                       NaN   \n",
       "3940               Habana To Go            NaN           00:07:31.489452   \n",
       "5979             RedFarm Hudson        Chinese           00:03:32.094164   \n",
       "1393              Breads Bakery         Bakery                       NaN   \n",
       "5579              Hale & Hearty          Salad                       NaN   \n",
       "4891                 Risotteria            NaN                       NaN   \n",
       "1664             RedFarm Hudson        Chinese           00:06:40.336457   \n",
       "\n",
       "      pickup_lat  pickup_lon  dropoff_lat  ...  to_pick_up_min  \\\n",
       "2669   40.722307  -73.987352    40.728421  ...        8.058483   \n",
       "3173   40.732213  -73.988072    40.742733  ...        4.206028   \n",
       "2310   40.724340  -73.990960    40.716341  ...        0.360924   \n",
       "477    40.764192  -73.964473    40.765817  ...        8.501726   \n",
       "3940   40.722912  -73.994089    40.733716  ...             NaN   \n",
       "5979   40.734214  -74.006202    40.732425  ...       12.659345   \n",
       "1393   40.736803  -73.991718    40.719145  ...       34.964583   \n",
       "5579   40.737828  -73.992362    40.744918  ...        3.383045   \n",
       "4891   40.731484  -74.003149    40.726739  ...        8.230582   \n",
       "1664   40.734214  -74.006202    40.733003  ...       15.106317   \n",
       "\n",
       "     pick_up_time_min delivery_time_min     distance vehicle_type_car  \\\n",
       "2669        17.719217          6.009587   771.368988                0   \n",
       "3173        26.337747         10.654494  1322.130648                0   \n",
       "2310        14.787187         16.628209  2008.796943                0   \n",
       "477         11.868530          4.732510   199.314704                0   \n",
       "3940              NaN               NaN  1358.327608                1   \n",
       "5979        23.842564          7.956391   862.284723                0   \n",
       "1393        12.734738         17.351922  2445.503006                0   \n",
       "5579        17.695993         10.529578  1468.725058                0   \n",
       "4891        22.828707          5.963223   951.012759                0   \n",
       "1664         8.830542         13.208509  1348.006199                1   \n",
       "\n",
       "      vehicle_type_motorcycle  vehicle_type_scooter  vehicle_type_truck  \\\n",
       "2669                        0                     0                   0   \n",
       "3173                        0                     0                   0   \n",
       "2310                        0                     0                   0   \n",
       "477                         0                     0                   0   \n",
       "3940                        0                     0                   0   \n",
       "5979                        0                     0                   0   \n",
       "1393                        0                     0                   0   \n",
       "5579                        0                     0                   0   \n",
       "4891                        0                     1                   0   \n",
       "1664                        0                     0                   0   \n",
       "\n",
       "      vehicle_type_van  vehicle_type_walker  \n",
       "2669                 0                    0  \n",
       "3173                 0                    0  \n",
       "2310                 0                    0  \n",
       "477                  0                    0  \n",
       "3940                 0                    0  \n",
       "5979                 0                    0  \n",
       "1393                 0                    0  \n",
       "5579                 0                    0  \n",
       "4891                 0                    0  \n",
       "1664                 0                    0  \n",
       "\n",
       "[10 rows x 32 columns]"
      ]
     },
     "execution_count": 126,
     "metadata": {},
     "output_type": "execute_result"
    }
   ],
   "source": [
    "#concatenate the original DF and the dummy DF\n",
    "master_dummies = pd.concat([master, vehicle_dummies], axis=1)\n",
    "\n",
    "master_dummies.sample(n=10, random_state=1)"
   ]
  },
  {
   "cell_type": "code",
   "execution_count": 127,
   "metadata": {
    "scrolled": false
   },
   "outputs": [
    {
     "data": {
      "text/plain": [
       "<matplotlib.axes._subplots.AxesSubplot at 0x7f05d6d3b910>"
      ]
     },
     "execution_count": 127,
     "metadata": {},
     "output_type": "execute_result"
    },
    {
     "data": {
      "image/png": "[encoded data removed]",
      "text/plain": [
       "<Figure size 1152x576 with 2 Axes>"
      ]
     },
     "metadata": {
      "needs_background": "light"
     },
     "output_type": "display_data"
    }
   ],
   "source": [
    "plt.figure(figsize=(16,8))\n",
    "sns.heatmap(master_dummies.corr())"
   ]
  },
  {
   "cell_type": "code",
   "execution_count": 128,
   "metadata": {},
   "outputs": [
    {
     "name": "stdout",
     "output_type": "stream",
     "text": [
      "<class 'pandas.core.frame.DataFrame'>\n",
      "Int64Index: 4776 entries, 1 to 5981\n",
      "Data columns (total 32 columns):\n",
      " #   Column                               Non-Null Count  Dtype         \n",
      "---  ------                               --------------  -----         \n",
      " 0   delivery_id                          4776 non-null   int64         \n",
      " 1   customer_id                          4776 non-null   int64         \n",
      " 2   jumpman_id                           4776 non-null   int64         \n",
      " 3   vehicle_type                         4776 non-null   object        \n",
      " 4   pickup_place                         4776 non-null   object        \n",
      " 5   place_category                       4007 non-null   object        \n",
      " 6   how_long_it_took_to_order            2408 non-null   object        \n",
      " 7   pickup_lat                           4776 non-null   float64       \n",
      " 8   pickup_lon                           4776 non-null   float64       \n",
      " 9   dropoff_lat                          4776 non-null   float64       \n",
      " 10  dropoff_lon                          4776 non-null   float64       \n",
      " 11  when_the_delivery_started            4776 non-null   datetime64[ns]\n",
      " 12  when_the_Jumpman_arrived_at_pickup   4281 non-null   datetime64[ns]\n",
      " 13  when_the_Jumpman_left_pickup         4281 non-null   datetime64[ns]\n",
      " 14  when_the_Jumpman_arrived_at_dropoff  4776 non-null   datetime64[ns]\n",
      " 15  total_items                          4776 non-null   int64         \n",
      " 16  item_quantity_sum                    4776 non-null   float64       \n",
      " 17  year                                 4776 non-null   int64         \n",
      " 18  wom                                  4776 non-null   int64         \n",
      " 19  dow                                  4776 non-null   int64         \n",
      " 20  hour                                 4776 non-null   int64         \n",
      " 21  total_time_min                       4776 non-null   float64       \n",
      " 22  to_pick_up_min                       4281 non-null   float64       \n",
      " 23  pick_up_time_min                     4281 non-null   float64       \n",
      " 24  delivery_time_min                    4281 non-null   float64       \n",
      " 25  distance                             4776 non-null   float64       \n",
      " 26  vehicle_type_car                     4776 non-null   uint8         \n",
      " 27  vehicle_type_motorcycle              4776 non-null   uint8         \n",
      " 28  vehicle_type_scooter                 4776 non-null   uint8         \n",
      " 29  vehicle_type_truck                   4776 non-null   uint8         \n",
      " 30  vehicle_type_van                     4776 non-null   uint8         \n",
      " 31  vehicle_type_walker                  4776 non-null   uint8         \n",
      "dtypes: datetime64[ns](4), float64(10), int64(8), object(4), uint8(6)\n",
      "memory usage: 1.0+ MB\n"
     ]
    }
   ],
   "source": [
    "master_dummies.info()"
   ]
  },
  {
   "cell_type": "code",
   "execution_count": 129,
   "metadata": {},
   "outputs": [],
   "source": [
    "#Include dummy variables for season in the model \n",
    "\n",
    "feature_cols = [\n",
    "    'vehicle_type_car', \n",
    "    'vehicle_type_motorcycle', \n",
    "    'vehicle_type_scooter',\n",
    "    'vehicle_type_truck',\n",
    "    'vehicle_type_van',\n",
    "    'vehicle_type_walker',\n",
    "    'distance', 'dow', 'hour'\n",
    "]\n",
    "\n",
    "X = master_dummies[feature_cols]\n",
    "y = master_dummies.total_time_min\n"
   ]
  },
  {
   "cell_type": "code",
   "execution_count": 130,
   "metadata": {},
   "outputs": [],
   "source": [
    "#Splitting the dataset into the Training set and Test set\n",
    "\n",
    "from sklearn.model_selection import train_test_split\n",
    "X_train, X_test, y_train, y_test = train_test_split(X, y, random_state = 123)"
   ]
  },
  {
   "cell_type": "code",
   "execution_count": 131,
   "metadata": {},
   "outputs": [
    {
     "data": {
      "text/plain": [
       "LinearRegression(copy_X=True, fit_intercept=True, n_jobs=None, normalize=False)"
      ]
     },
     "execution_count": 131,
     "metadata": {},
     "output_type": "execute_result"
    }
   ],
   "source": [
    "#Fitting Multiple Linear Regression to the Training Set\n",
    "\n",
    "from sklearn.linear_model import LinearRegression\n",
    "linreg = LinearRegression()\n",
    "linreg.fit(X_train, y_train)"
   ]
  },
  {
   "cell_type": "code",
   "execution_count": 132,
   "metadata": {},
   "outputs": [
    {
     "data": {
      "text/plain": [
       "array([44.14467242, 45.98670945, 42.20960862, ..., 39.50840712,\n",
       "       52.60716803, 36.72346661])"
      ]
     },
     "execution_count": 132,
     "metadata": {},
     "output_type": "execute_result"
    }
   ],
   "source": [
    "# Predicting the TEst set results \n",
    "\n",
    "y_pred = linreg.predict(X_test)\n",
    "y_pred"
   ]
  },
  {
   "cell_type": "code",
   "execution_count": 133,
   "metadata": {
    "scrolled": true
   },
   "outputs": [
    {
     "name": "stdout",
     "output_type": "stream",
     "text": [
      "[ 2.68195614e+00 -8.05962212e+00  2.45915505e+00  5.76009242e+00\n",
      "  6.20844169e+00  1.39140809e+00  4.64703792e-03  1.16346477e+00\n",
      "  2.27246371e-01]\n",
      "29.141902814086865\n"
     ]
    }
   ],
   "source": [
    "# Calculating the Coefficients and intercept\n",
    "print(linreg.coef_)\n",
    "print(linreg.intercept_)"
   ]
  },
  {
   "cell_type": "code",
   "execution_count": 134,
   "metadata": {},
   "outputs": [
    {
     "data": {
      "text/plain": [
       "[('vehicle_type_car', 2.6819561372370395),\n",
       " ('vehicle_type_motorcycle', -8.059622116215483),\n",
       " ('vehicle_type_scooter', 2.4591550545708065),\n",
       " ('vehicle_type_truck', 5.760092422786196),\n",
       " ('vehicle_type_van', 6.208441686698106),\n",
       " ('vehicle_type_walker', 1.3914080868862955),\n",
       " ('distance', 0.004647037921233605),\n",
       " ('dow', 1.163464765432388),\n",
       " ('hour', 0.22724637070630133)]"
      ]
     },
     "execution_count": 134,
     "metadata": {},
     "output_type": "execute_result"
    }
   ],
   "source": [
    "list(zip(feature_cols, linreg.coef_))"
   ]
  },
  {
   "cell_type": "code",
   "execution_count": 135,
   "metadata": {},
   "outputs": [
    {
     "data": {
      "text/plain": [
       "0.19782582854131148"
      ]
     },
     "execution_count": 135,
     "metadata": {},
     "output_type": "execute_result"
    }
   ],
   "source": [
    "#Calculating the R suared value \n",
    "from sklearn import metrics\n",
    "\n",
    "r2_score(y_test, y_pred)"
   ]
  },
  {
   "cell_type": "code",
   "execution_count": 136,
   "metadata": {
    "scrolled": false
   },
   "outputs": [
    {
     "data": {
      "text/plain": [
       "17.442477437969096"
      ]
     },
     "execution_count": 136,
     "metadata": {},
     "output_type": "execute_result"
    }
   ],
   "source": [
    "np.sqrt(metrics.mean_squared_error(y_test, y_pred))"
   ]
  },
  {
   "cell_type": "markdown",
   "metadata": {},
   "source": [
    "#### This is not a good model. We need better modeling. Let's build a test model that can apply different sets of features"
   ]
  },
  {
   "cell_type": "code",
   "execution_count": 137,
   "metadata": {},
   "outputs": [
    {
     "data": {
      "text/plain": [
       "(4281, 32)"
      ]
     },
     "execution_count": 137,
     "metadata": {},
     "output_type": "execute_result"
    }
   ],
   "source": [
    "# dropping data that has integrity issue\n",
    "\n",
    "master_dummies = master_dummies[master_dummies['total_items'].notna()]\n",
    "master_dummies = master_dummies[master_dummies['item_quantity_sum'].notna()]\n",
    "master_dummies = master_dummies[master_dummies['pick_up_time_min'].notna()]\n",
    "master_dummies.shape\n",
    "#'pick_up_time_min'"
   ]
  },
  {
   "cell_type": "markdown",
   "metadata": {},
   "source": [
    "#### adding more features"
   ]
  },
  {
   "cell_type": "code",
   "execution_count": 138,
   "metadata": {},
   "outputs": [],
   "source": [
    "\n",
    "feature_cols2 = [\n",
    "    'vehicle_type_car', \n",
    "    'vehicle_type_motorcycle', \n",
    "    'vehicle_type_scooter',\n",
    "    'vehicle_type_truck',\n",
    "    'vehicle_type_van',\n",
    "    'vehicle_type_walker',\n",
    "    'distance', 'hour', 'dow'\n",
    "]\n",
    "\n",
    "X = master_dummies[feature_cols2]\n",
    "y = master_dummies.total_time_min\n"
   ]
  },
  {
   "cell_type": "code",
   "execution_count": 139,
   "metadata": {},
   "outputs": [
    {
     "data": {
      "text/plain": [
       "array([53.91890853, 34.65560391, 52.01813107, ..., 40.62887286,\n",
       "       58.43224236, 53.97011603])"
      ]
     },
     "execution_count": 139,
     "metadata": {},
     "output_type": "execute_result"
    }
   ],
   "source": [
    "X_train, X_test, y_train, y_test = train_test_split(X, y, random_state = 123)\n",
    "\n",
    "linreg = LinearRegression()\n",
    "linreg.fit(X_train, y_train)\n",
    "\n",
    "y_pred = linreg.predict(X_test)\n",
    "y_pred"
   ]
  },
  {
   "cell_type": "code",
   "execution_count": 140,
   "metadata": {},
   "outputs": [
    {
     "data": {
      "text/plain": [
       "15.760452051201788"
      ]
     },
     "execution_count": 140,
     "metadata": {},
     "output_type": "execute_result"
    }
   ],
   "source": [
    "np.sqrt(metrics.mean_squared_error(y_test, y_pred))"
   ]
  },
  {
   "cell_type": "code",
   "execution_count": 141,
   "metadata": {
    "scrolled": true
   },
   "outputs": [
    {
     "data": {
      "text/plain": [
       "0.24108037155414885"
      ]
     },
     "execution_count": 141,
     "metadata": {},
     "output_type": "execute_result"
    }
   ],
   "source": [
    "r2_score(y_test, y_pred)"
   ]
  },
  {
   "cell_type": "markdown",
   "metadata": {},
   "source": [
    "#### Trying 70/30 Split"
   ]
  },
  {
   "cell_type": "code",
   "execution_count": 142,
   "metadata": {},
   "outputs": [],
   "source": [
    "#trying 70/30 split\n",
    "X_train, X_test, y_train, y_test = train_test_split(X, y, test_size = 0.3, random_state = 123)\n",
    "\n",
    "linreg = LinearRegression()\n",
    "linreg.fit(X_train, y_train)\n",
    "\n",
    "y_pred = linreg.predict(X_test)"
   ]
  },
  {
   "cell_type": "code",
   "execution_count": 143,
   "metadata": {},
   "outputs": [
    {
     "data": {
      "text/plain": [
       "15.59600454060928"
      ]
     },
     "execution_count": 143,
     "metadata": {},
     "output_type": "execute_result"
    }
   ],
   "source": [
    "np.sqrt(metrics.mean_squared_error(y_test, y_pred))"
   ]
  },
  {
   "cell_type": "code",
   "execution_count": 144,
   "metadata": {},
   "outputs": [
    {
     "data": {
      "text/plain": [
       "0.2245294931085463"
      ]
     },
     "execution_count": 144,
     "metadata": {},
     "output_type": "execute_result"
    }
   ],
   "source": [
    "r2_score(y_test, y_pred)"
   ]
  },
  {
   "cell_type": "markdown",
   "metadata": {},
   "source": [
    "#### Trying 80/20 Split"
   ]
  },
  {
   "cell_type": "code",
   "execution_count": 145,
   "metadata": {},
   "outputs": [],
   "source": [
    "#trying 70/30 split\n",
    "X_train, X_test, y_train, y_test = train_test_split(X, y, test_size = 0.2, random_state = 123)\n",
    "\n",
    "linreg = LinearRegression()\n",
    "linreg.fit(X_train, y_train)\n",
    "\n",
    "y_pred = linreg.predict(X_test)"
   ]
  },
  {
   "cell_type": "code",
   "execution_count": 146,
   "metadata": {},
   "outputs": [
    {
     "data": {
      "text/plain": [
       "15.76615351402131"
      ]
     },
     "execution_count": 146,
     "metadata": {},
     "output_type": "execute_result"
    }
   ],
   "source": [
    "np.sqrt(metrics.mean_squared_error(y_test, y_pred))"
   ]
  },
  {
   "cell_type": "code",
   "execution_count": 147,
   "metadata": {},
   "outputs": [
    {
     "data": {
      "text/plain": [
       "0.2373987426253874"
      ]
     },
     "execution_count": 147,
     "metadata": {},
     "output_type": "execute_result"
    }
   ],
   "source": [
    "r2_score(y_test, y_pred)"
   ]
  },
  {
   "cell_type": "markdown",
   "metadata": {},
   "source": [
    "#### Trying 90/10 Split"
   ]
  },
  {
   "cell_type": "code",
   "execution_count": 148,
   "metadata": {},
   "outputs": [],
   "source": [
    "#trying 90/10 split\n",
    "X_train, X_test, y_train, y_test = train_test_split(X, y, test_size = 0.1, random_state = 123)\n",
    "\n",
    "linreg = LinearRegression()\n",
    "linreg.fit(X_train, y_train)\n",
    "\n",
    "y_pred = linreg.predict(X_test)"
   ]
  },
  {
   "cell_type": "code",
   "execution_count": 149,
   "metadata": {},
   "outputs": [
    {
     "data": {
      "text/plain": [
       "14.318645908683328"
      ]
     },
     "execution_count": 149,
     "metadata": {},
     "output_type": "execute_result"
    }
   ],
   "source": [
    "np.sqrt(metrics.mean_squared_error(y_test, y_pred))"
   ]
  },
  {
   "cell_type": "code",
   "execution_count": 150,
   "metadata": {},
   "outputs": [
    {
     "data": {
      "text/plain": [
       "0.25208003155209147"
      ]
     },
     "execution_count": 150,
     "metadata": {},
     "output_type": "execute_result"
    }
   ],
   "source": [
    "r2_score(y_test, y_pred)"
   ]
  },
  {
   "cell_type": "markdown",
   "metadata": {},
   "source": [
    "#### Comparing Testing RMSE with Null RMSE"
   ]
  },
  {
   "cell_type": "code",
   "execution_count": 151,
   "metadata": {},
   "outputs": [
    {
     "data": {
      "text/plain": [
       "array([45.97503013, 45.97503013, 45.97503013, ..., 45.97503013,\n",
       "       45.97503013, 45.97503013])"
      ]
     },
     "execution_count": 151,
     "metadata": {},
     "output_type": "execute_result"
    }
   ],
   "source": [
    "# Split X and y into training and testing sets.\n",
    "X_train, X_test, y_train, y_test = train_test_split(X, y, random_state=0)\n",
    "\n",
    "# Create a NumPy array with the same shape as y_test.\n",
    "y_null = np.zeros_like(y_test, dtype=float)\n",
    "\n",
    "# Fill the array with the mean value of y_test.\n",
    "y_null.fill(y_test.mean())\n",
    "y_null"
   ]
  },
  {
   "cell_type": "code",
   "execution_count": 152,
   "metadata": {},
   "outputs": [
    {
     "data": {
      "text/plain": [
       "20.93201569328635"
      ]
     },
     "execution_count": 152,
     "metadata": {},
     "output_type": "execute_result"
    }
   ],
   "source": [
    "# Compute null RMSE.\n",
    "np.sqrt(metrics.mean_squared_error(y_test, y_null))"
   ]
  },
  {
   "cell_type": "code",
   "execution_count": 153,
   "metadata": {},
   "outputs": [
    {
     "ename": "ValueError",
     "evalue": "Found input variables with inconsistent numbers of samples: [1071, 429]",
     "output_type": "error",
     "traceback": [
      "\u001b[0;31m---------------------------------------------------------------------------\u001b[0m",
      "\u001b[0;31mValueError\u001b[0m                                Traceback (most recent call last)",
      "\u001b[0;32m<ipython-input-153-726684fe2b3f>\u001b[0m in \u001b[0;36m<module>\u001b[0;34m\u001b[0m\n\u001b[0;32m----> 1\u001b[0;31m \u001b[0mr2_score\u001b[0m\u001b[0;34m(\u001b[0m\u001b[0my_test\u001b[0m\u001b[0;34m,\u001b[0m \u001b[0my_pred\u001b[0m\u001b[0;34m)\u001b[0m\u001b[0;34m\u001b[0m\u001b[0;34m\u001b[0m\u001b[0m\n\u001b[0m",
      "\u001b[0;32m~/anaconda3/envs/artekki_env/lib/python3.7/site-packages/sklearn/metrics/_regression.py\u001b[0m in \u001b[0;36mr2_score\u001b[0;34m(y_true, y_pred, sample_weight, multioutput)\u001b[0m\n\u001b[1;32m    575\u001b[0m     \"\"\"\n\u001b[1;32m    576\u001b[0m     y_type, y_true, y_pred, multioutput = _check_reg_targets(\n\u001b[0;32m--> 577\u001b[0;31m         y_true, y_pred, multioutput)\n\u001b[0m\u001b[1;32m    578\u001b[0m     \u001b[0mcheck_consistent_length\u001b[0m\u001b[0;34m(\u001b[0m\u001b[0my_true\u001b[0m\u001b[0;34m,\u001b[0m \u001b[0my_pred\u001b[0m\u001b[0;34m,\u001b[0m \u001b[0msample_weight\u001b[0m\u001b[0;34m)\u001b[0m\u001b[0;34m\u001b[0m\u001b[0;34m\u001b[0m\u001b[0m\n\u001b[1;32m    579\u001b[0m \u001b[0;34m\u001b[0m\u001b[0m\n",
      "\u001b[0;32m~/anaconda3/envs/artekki_env/lib/python3.7/site-packages/sklearn/metrics/_regression.py\u001b[0m in \u001b[0;36m_check_reg_targets\u001b[0;34m(y_true, y_pred, multioutput, dtype)\u001b[0m\n\u001b[1;32m     82\u001b[0m \u001b[0;34m\u001b[0m\u001b[0m\n\u001b[1;32m     83\u001b[0m     \"\"\"\n\u001b[0;32m---> 84\u001b[0;31m     \u001b[0mcheck_consistent_length\u001b[0m\u001b[0;34m(\u001b[0m\u001b[0my_true\u001b[0m\u001b[0;34m,\u001b[0m \u001b[0my_pred\u001b[0m\u001b[0;34m)\u001b[0m\u001b[0;34m\u001b[0m\u001b[0;34m\u001b[0m\u001b[0m\n\u001b[0m\u001b[1;32m     85\u001b[0m     \u001b[0my_true\u001b[0m \u001b[0;34m=\u001b[0m \u001b[0mcheck_array\u001b[0m\u001b[0;34m(\u001b[0m\u001b[0my_true\u001b[0m\u001b[0;34m,\u001b[0m \u001b[0mensure_2d\u001b[0m\u001b[0;34m=\u001b[0m\u001b[0;32mFalse\u001b[0m\u001b[0;34m,\u001b[0m \u001b[0mdtype\u001b[0m\u001b[0;34m=\u001b[0m\u001b[0mdtype\u001b[0m\u001b[0;34m)\u001b[0m\u001b[0;34m\u001b[0m\u001b[0;34m\u001b[0m\u001b[0m\n\u001b[1;32m     86\u001b[0m     \u001b[0my_pred\u001b[0m \u001b[0;34m=\u001b[0m \u001b[0mcheck_array\u001b[0m\u001b[0;34m(\u001b[0m\u001b[0my_pred\u001b[0m\u001b[0;34m,\u001b[0m \u001b[0mensure_2d\u001b[0m\u001b[0;34m=\u001b[0m\u001b[0;32mFalse\u001b[0m\u001b[0;34m,\u001b[0m \u001b[0mdtype\u001b[0m\u001b[0;34m=\u001b[0m\u001b[0mdtype\u001b[0m\u001b[0;34m)\u001b[0m\u001b[0;34m\u001b[0m\u001b[0;34m\u001b[0m\u001b[0m\n",
      "\u001b[0;32m~/anaconda3/envs/artekki_env/lib/python3.7/site-packages/sklearn/utils/validation.py\u001b[0m in \u001b[0;36mcheck_consistent_length\u001b[0;34m(*arrays)\u001b[0m\n\u001b[1;32m    210\u001b[0m     \u001b[0;32mif\u001b[0m \u001b[0mlen\u001b[0m\u001b[0;34m(\u001b[0m\u001b[0muniques\u001b[0m\u001b[0;34m)\u001b[0m \u001b[0;34m>\u001b[0m \u001b[0;36m1\u001b[0m\u001b[0;34m:\u001b[0m\u001b[0;34m\u001b[0m\u001b[0;34m\u001b[0m\u001b[0m\n\u001b[1;32m    211\u001b[0m         raise ValueError(\"Found input variables with inconsistent numbers of\"\n\u001b[0;32m--> 212\u001b[0;31m                          \" samples: %r\" % [int(l) for l in lengths])\n\u001b[0m\u001b[1;32m    213\u001b[0m \u001b[0;34m\u001b[0m\u001b[0m\n\u001b[1;32m    214\u001b[0m \u001b[0;34m\u001b[0m\u001b[0m\n",
      "\u001b[0;31mValueError\u001b[0m: Found input variables with inconsistent numbers of samples: [1071, 429]"
     ]
    }
   ],
   "source": [
    "r2_score(y_test, y_pred)"
   ]
  },
  {
   "cell_type": "markdown",
   "metadata": {},
   "source": [
    "#### Create a cross-valiation with five folds.\n"
   ]
  },
  {
   "cell_type": "code",
   "execution_count": 154,
   "metadata": {},
   "outputs": [],
   "source": [
    "from sklearn import model_selection\n"
   ]
  },
  {
   "cell_type": "code",
   "execution_count": 155,
   "metadata": {},
   "outputs": [],
   "source": [
    "kf = model_selection.KFold(n_splits=5, shuffle=True)\n"
   ]
  },
  {
   "cell_type": "code",
   "execution_count": 156,
   "metadata": {},
   "outputs": [
    {
     "name": "stdout",
     "output_type": "stream",
     "text": [
      "~~~~ CROSS VALIDATION each fold ~~~~\n",
      "Model 1\n",
      "MSE: 315.17091124702455\n",
      "R2: 0.19381363051903389\n",
      "\n",
      "Model 2\n",
      "MSE: 355.28369128082124\n",
      "R2: 0.1934632203507225\n",
      "\n",
      "Model 3\n",
      "MSE: 263.32964934032356\n",
      "R2: 0.19399045901025458\n",
      "\n",
      "Model 4\n",
      "MSE: 270.2922482009959\n",
      "R2: 0.1935647683928884\n",
      "\n",
      "Model 5\n",
      "MSE: 252.35686860468329\n",
      "R2: 0.19420366778096543\n",
      "\n",
      "~~~~ SUMMARY OF CROSS VALIDATION ~~~~\n",
      "Mean of MSE for all folds: 291.28667373476975\n",
      "Mean of R2 for all folds: 0.19380714921077297\n"
     ]
    }
   ],
   "source": [
    "mse_values = []\n",
    "scores = []\n",
    "n = 0\n",
    "\n",
    "print(\"~~~~ CROSS VALIDATION each fold ~~~~\")\n",
    "for train_index, test_index in kf.split(X, y):\n",
    "    lr = LinearRegression().fit(X.iloc[train_index], y.iloc[train_index])\n",
    "    \n",
    "    mse_values.append(metrics.mean_squared_error(y.iloc[test_index], lr.predict(X.iloc[test_index])))\n",
    "    scores.append(lr.score(X, y))\n",
    "    \n",
    "    n += 1\n",
    "    \n",
    "    print('Model {}'.format(n))\n",
    "    print('MSE: {}'.format(mse_values[n-1]))\n",
    "    print('R2: {}\\n'.format(scores[n-1]))\n",
    "\n",
    "\n",
    "print(\"~~~~ SUMMARY OF CROSS VALIDATION ~~~~\")\n",
    "print('Mean of MSE for all folds: {}'.format(np.mean(mse_values)))\n",
    "print('Mean of R2 for all folds: {}'.format(np.mean(scores)))"
   ]
  },
  {
   "cell_type": "code",
   "execution_count": 157,
   "metadata": {},
   "outputs": [
    {
     "name": "stdout",
     "output_type": "stream",
     "text": [
      "291.97629779609576\n",
      "0.18971401227823984\n"
     ]
    }
   ],
   "source": [
    "from sklearn.model_selection import cross_val_score\n",
    "\n",
    "# Note the results will vary each run since we take a different\n",
    "#   subset of the data each time (since shuffle=True)\n",
    "kf = model_selection.KFold(n_splits=5, shuffle=True)\n",
    "\n",
    "print(np.mean(-cross_val_score(lr, X, y, cv=kf, scoring='neg_mean_squared_error')))\n",
    "print(np.mean(cross_val_score(lr, X, y, cv=kf)))"
   ]
  }
 ],
 "metadata": {
  "kernelspec": {
   "display_name": "Python 3",
   "language": "python",
   "name": "python3"
  },
  "language_info": {
   "codemirror_mode": {
    "name": "ipython",
    "version": 3
   },
   "file_extension": ".py",
   "mimetype": "text/x-python",
   "name": "python",
   "nbconvert_exporter": "python",
   "pygments_lexer": "ipython3",
   "version": "3.7.6"
  }
 },
 "nbformat": 4,
 "nbformat_minor": 4
}
